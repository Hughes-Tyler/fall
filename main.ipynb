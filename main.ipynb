{
 "cells": [
  {
   "cell_type": "markdown",
   "id": "c97bd9ab",
   "metadata": {},
   "source": [
    "# Faculty Survey"
   ]
  },
  {
   "cell_type": "code",
   "execution_count": 1,
   "id": "ce5429bc",
   "metadata": {},
   "outputs": [],
   "source": [
    "import pandas as pd \n",
    "import numpy as np\n",
    "import matplotlib.pyplot as plt\n",
    "import plotly.express as px\n",
    "import seaborn as sns"
   ]
  },
  {
   "cell_type": "code",
   "execution_count": 2,
   "id": "365349f7",
   "metadata": {},
   "outputs": [
    {
     "name": "stdout",
     "output_type": "stream",
     "text": [
      "Alias to Original Header Mapping:\n",
      "col1: Start Date\n",
      "col2: End Date\n",
      "col3: Progress\n",
      "col4: Duration (in seconds)\n",
      "col5: Finished\n",
      "col6: Recorded Date\n",
      "col7: What is your gender?\n",
      "col8: What is your race/ethnicity?\n",
      "col9: How many years have you been teaching for Augustin College?\n",
      "col10: What Augustin College programs do you teach in?\n",
      "col11: Which undergraduate programs do you currently teach in?\n",
      "col12: Which graduate programs do you currently teach in?\n",
      "col13: How important are the following aspects for promoting Augustin College to future students?* - Flexible learning Options (e.g., online, evening, hybrid)\n",
      "col14: How important are the following aspects for promoting Augustin College to future students?* - Career-focused programs aligned with workforce needs\n",
      "col15: How important are the following aspects for promoting Augustin College to future students?* - Competitive tuition and robust financial aid support\n",
      "col16: How important are the following aspects for promoting Augustin College to future students?* - Mission-driven education rooted in purpose and service\n",
      "col17: How important are the following aspects for promoting Augustin College to future students?* - Personalized support and a student-centered community\n",
      "col18: How important are the following aspects for promoting Augustin College to future students?* - Accelerated or modular degree completion pathways\n",
      "col19: How important are the following aspects for promoting Augustin College to future students?* - Strong Veritus Imperial University reputation and alumni network\n",
      "col20: How important are the following aspects for promoting Augustin College to future students?* - Strong faculty with industry experience\n",
      "col21: What should Augustin College actively seek to enroll more of in the future? Please rank the following options by dragging the selection up or down in your preferred rank order where number 1 is the most important option to seek more of and 7 is the lowest. - Working professionals seeking to advance in their current field\n",
      "col22: What should Augustin College actively seek to enroll more of in the future? Please rank the following options by dragging the selection up or down in your preferred rank order where number 1 is the most important option to seek more of and 7 is the lowest. - Adult learners returning to college after time away\n",
      "col23: What should Augustin College actively seek to enroll more of in the future? Please rank the following options by dragging the selection up or down in your preferred rank order where number 1 is the most important option to seek more of and 7 is the lowest. - Recent high school graduates looking for flexible pathways\n",
      "col24: What should Augustin College actively seek to enroll more of in the future? Please rank the following options by dragging the selection up or down in your preferred rank order where number 1 is the most important option to seek more of and 7 is the lowest. - Career changers pursuing graduate credentials\n",
      "col25: What should Augustin College actively seek to enroll more of in the future? Please rank the following options by dragging the selection up or down in your preferred rank order where number 1 is the most important option to seek more of and 7 is the lowest. - First-generation college students\n",
      "col26: What should Augustin College actively seek to enroll more of in the future? Please rank the following options by dragging the selection up or down in your preferred rank order where number 1 is the most important option to seek more of and 7 is the lowest. - Students from underrepresented or historically marginalized backgrounds\n",
      "col27: What should Augustin College actively seek to enroll more of in the future? Please rank the following options by dragging the selection up or down in your preferred rank order where number 1 is the most important option to seek more of and 7 is the lowest. - International students\n",
      "col28: Which do you believe are most important to emphasize in order to positively influence prospective students to apply to Augustin College? Please rank the following factors by dragging the selection up or down in your preferred rank order where number 1 is the most important factor to emphasize and 4 is the lowest thing to emphasize. - Veritus Imperial University's overall academic reputation\n",
      "col29: Which do you believe are most important to emphasize in order to positively influence prospective students to apply to Augustin College? Please rank the following factors by dragging the selection up or down in your preferred rank order where number 1 is the most important factor to emphasize and 4 is the lowest thing to emphasize. - Augustin College's unique identity and reputation\n",
      "col30: Which do you believe are most important to emphasize in order to positively influence prospective students to apply to Augustin College? Please rank the following factors by dragging the selection up or down in your preferred rank order where number 1 is the most important factor to emphasize and 4 is the lowest thing to emphasize. - Reputation and credibility of individual programs\n",
      "col31: Which do you believe are most important to emphasize in order to positively influence prospective students to apply to Augustin College? Please rank the following factors by dragging the selection up or down in your preferred rank order where number 1 is the most important factor to emphasize and 4 is the lowest thing to emphasize. - Academic rigor and challenge of the curriculum\n",
      "col32: How important are the following aspects to the future learning experience at Augustin College? - Small class sizes and individualized attention\n",
      "col33: How important are the following aspects to the future learning experience at Augustin College? - Experiential learning opportunities (e.g., internships, client projects)\n",
      "col34: How important are the following aspects to the future learning experience at Augustin College? - Courses that develop leadership and communication skills\n",
      "col35: How important are the following aspects to the future learning experience at Augustin College? - In-person learning opportunities\n",
      "col36: How important are the following aspects to the future learning experience at Augustin College? - Daytime course offerings\n",
      "col37: How important are the following aspects to the future learning experience at Augustin College? - Online synchronous learning opportunities (live online classes)\n",
      "col38: How important are the following aspects to the future learning experience at Augustin College? - Online asynchronous learning opportunities (flexible, self-paced online classes)\n",
      "col39: How important are the following aspects of faculty mentoring to the academic experience at Augustin College? - Access to a faculty mentor outside of class\n",
      "col40: How important are the following aspects of faculty mentoring to the academic experience at Augustin College? - Structured mentorship programs\n",
      "col41: How important are the following aspects of faculty mentoring to the academic experience at Augustin College? - Faculty support for career and professional development\n",
      "col42: How important are the following aspects of faculty mentoring to the academic experience at Augustin College? - Access to faculty research opportunities outside of class\n",
      "col43: How important are the following opportunities for ensuring academic accessibility and inclusion at Augustin College? - Access for students with disabilities\n",
      "col44: How important are the following opportunities for ensuring academic accessibility and inclusion at Augustin College? - Faculty trained in universal course design\n",
      "col45: How important are the following opportunities for ensuring academic accessibility and inclusion at Augustin College? - Clear and simple process for requesting academic accommodations\n",
      "col46: How important are the following opportunities for ensuring academic accessibility and inclusion at Augustin College? - Ease of access to university technology systems\n",
      "col47: How important are the following initiatives for building academic community at Augustin College? - Events that bring students and faculty together (e.g. speaker series, brown bag lunches, etc.)\n",
      "col48: How important are the following initiatives for building academic community at Augustin College? - Peer mentoring\n",
      "col49: How important are the following initiatives for building academic community at Augustin College? - Study groups\n",
      "col50: How important are the following initiatives for building academic community at Augustin College? - Increased opportunities to connect online and in-person students\n",
      "col51: How important are the following initiatives for building academic community at Augustin College? - On campus housing options\n",
      "col52: As Augustin College expands its academic offerings, how important are the following priorities? - Career-focused courses aligned with industry needs (action research project & internships)\n",
      "col53: As Augustin College expands its academic offerings, how important are the following priorities? - Research-focused courses aligned with industry trends\n",
      "col54: As Augustin College expands its academic offerings, how important are the following priorities? - Courses in high-demand fields (eg., technology, public health, business ethics)\n",
      "col55: As Augustin College expands its academic offerings, how important are the following priorities? - Flexibility to take courses across other Veritus Imperial University programs\n",
      "col56: As Augustin College expands its academic offerings, how important are the following priorities? - Active engagement in the classroom/Zoom class meetings\n",
      "col57: How important are the following features for ensuring academic excellence at Augustin College? - High academic standards\n",
      "col58: How important are the following features for ensuring academic excellence at Augustin College? - Strong support systems\n",
      "col59: How important are the following features for ensuring academic excellence at Augustin College? - Advanced, challenge-based assignments\n",
      "col60: How important are the following features for ensuring academic excellence at Augustin College? - Transparent grading\n",
      "col61: How important are the following features for ensuring academic excellence at Augustin College? - Clear and timely feedback\n",
      "col62: What is one improvement or innovation you would recommend to strengthen the academic experience at Augustin College?\n",
      "col63: How important do you believe each of the following initiatives is for enhancing students' non-academic and co-curricular engagement at Augustin College? - More events and opportunities that foster a sense of community\n",
      "col64: How important do you believe each of the following initiatives is for enhancing students' non-academic and co-curricular engagement at Augustin College? - Additional leadership and volunteer opportunities within Augustin College\n",
      "col65: How important do you believe each of the following initiatives is for enhancing students' non-academic and co-curricular engagement at Augustin College? - More spaces (common areas for eating or studying) to support personal development beyond coursework\n",
      "col66: How important do you believe each of the following initiatives is for enhancing students' non-academic and co-curricular engagement at Augustin College? - More community service opportunties\n",
      "col67: How important are the following strategies for improving students' access to university-wide services? - Better visibility and accessibility of university services (e.g., Career Center, Library)\n",
      "col68: How important are the following strategies for improving students' access to university-wide services? - Closer integration of Veritus Imperial University services into the Augustin College student experience\n",
      "col69: How important are the following strategies for improving students' access to university-wide services? - Stronger collaboration between Augustin College and other Veritus Imperial University departments\n",
      "col70: How important is a closer integration of Veritus Imperial University services within Augustin College? -  Faith Ministry\n",
      "col71: How important is a closer integration of Veritus Imperial University services within Augustin College? - Career Center\n",
      "col72: How important is a closer integration of Veritus Imperial University services within Augustin College? - The Tutoring and Exam Center\n",
      "col73: How important is a closer integration of Veritus Imperial University services within Augustin College? - Dining Hall\n",
      "col74: How important is a closer integration of Veritus Imperial University services within Augustin College? - Veritus Imperial University Accessibility Services\n",
      "col75: How important is a closer integration of Veritus Imperial University services within Augustin College? - Financial Aid\n",
      "col76: How important is a closer integration of Veritus Imperial University services within Augustin College? - IT Help Desk\n",
      "col77: How important is a closer integration of Veritus Imperial University services within Augustin College? - Veritus Imperial University Libraries\n",
      "col78: How important is a closer integration of Veritus Imperial University services within Augustin College? -  Gym & Recreation Center\n",
      "col79: How important is a closer integration of Veritus Imperial University services within Augustin College? - Veteran Support\n",
      "col80: How important is a closer integration of Veritus Imperial University services within Augustin College? -  Student Wellness Center\n",
      "col81: How important is a closer integration of Veritus Imperial University services within Augustin College? - Undergrad Student Life Office\n",
      "col82: How important is a closer integration of Veritus Imperial University services within Augustin College? - Graduate Student Life Office\n",
      "col83: How important is a closer integration of Veritus Imperial University services within Augustin College? - International Students Office\n",
      "col84: How important are the following enhancements to Augustin College student services? - Increased outreach from advising\n",
      "col85: How important are the following enhancements to Augustin College student services? - More streamlined and timely communication from Augustin College offices\n",
      "col86: How important are the following enhancements to Augustin College student services? - Expanded personalized career guidance tailored to student goals\n",
      "col87: How important are the following priorities for preparing students for life after Augustin College? - Opportunities for career networking\n",
      "col88: How important are the following priorities for preparing students for life after Augustin College? - Internal/External Career Mentoring\n",
      "col89: How important are the following priorities for preparing students for life after Augustin College? - Career advising\n",
      "col90: How important are the following priorities for preparing students for life after Augustin College? - Opportunities to develop leadership skills\n",
      "col91: How important are the following priorities for preparing students for life after Augustin College? - Opportunities for personal skill development\n",
      "col92: How important are the following priorities for preparing students for life after Augustin College? - Enhanced career preparation through internships\n",
      "col93: How important are the following priorities for preparing students for life after Augustin College? - Networking\n",
      "col94: How important are the following priorities for preparing students for life after Augustin College? - Clearer alignment between academic programs and professional goals\n",
      "col95: What is one improvement or new initiative you would recommend to enhance the student experience at Augustin College?\n",
      "col96: How important should each of the following ideas be in shaping the future mission of Augustin College? - Upholding values such as service, justice, and reflection\n",
      "col97: How important should each of the following ideas be in shaping the future mission of Augustin College? - Expanding flexible pathways for adult and nontraditional learners\n",
      "col98: How important should each of the following ideas be in shaping the future mission of Augustin College? - Preparing students to be ethical leaders in a complex world\n",
      "col99: How important should each of the following ideas be in shaping the future mission of Augustin College? - Promoting diversity, inclusion, and equity across the student experience\n",
      "col100: How important should each of the following ideas be in shaping the future mission of Augustin College? - Focusing on real-world impact and professional advancement\n",
      "col101: How important should each of the following ideas be in shaping the future mission of Augustin College? - Supporting lifelong learning and career reinvention\n",
      "col102: How important should each of the following ideas be in shaping the future mission of Augustin College? - Fostering a strong sense of community and personal connection\n",
      "col103: How important should each of the following ideas be in shaping the future mission of Augustin College? - Developing student's ability to lead, serve, and transform society\n",
      "col104: How important should each of the following ideas be in shaping the future mission of Augustin College? - Aligning with the evolving challenges and opportunities of the future workforce\n",
      "col105: Are there any other ideas or priorities you believe Augustin College should incorporate into its future mission?\n",
      "col106: How can Augustin College support you better in your teaching in the future?\n",
      "col107: How can Augustin College cultivate a stronger sense of community among the faculty in the future?\n",
      "col108: In the future, how can Augustin College cultivate a stronger sense of community and shared identify among faculty, staff, and students?\n"
     ]
    }
   ],
   "source": [
    "df = pd.read_csv(\"faculty_survey_anonymized.csv\")\n",
    "\n",
    "alias_map = {f\"col{i}\": col for i, col in enumerate(df.columns, start=1)}\n",
    "reverse_map = {v: k for k, v in alias_map.items()}\n",
    "\n",
    "df_alias = df.rename(columns=reverse_map)\n",
    "\n",
    "print(\"Alias to Original Header Mapping:\")\n",
    "for alias, original in alias_map.items():\n",
    "    print(f\"{alias}: {original}\")\n",
    "\n",
    "df_alias = df_alias.fillna(\"No Response\")"
   ]
  },
  {
   "cell_type": "markdown",
   "id": "333ed315",
   "metadata": {},
   "source": [
    "## Demographics"
   ]
  },
  {
   "cell_type": "code",
   "execution_count": 3,
   "id": "507a4bf2",
   "metadata": {},
   "outputs": [
    {
     "data": {
      "application/vnd.plotly.v1+json": {
       "config": {
        "plotlyServerURL": "https://plot.ly"
       },
       "data": [
        {
         "domain": {
          "x": [
           0,
           1
          ],
          "y": [
           0,
           1
          ]
         },
         "hovertemplate": "col7=%{label}<extra></extra>",
         "labels": [
          "Female",
          "Female",
          "Male",
          "Female",
          "Male",
          "Male",
          "Male",
          "Male",
          "Male",
          "Female",
          "Male",
          "Male",
          "Male",
          "Female",
          "Female",
          "Female",
          "Male",
          "Male",
          "Male",
          "No Response",
          "Male",
          "No Response",
          "Male",
          "Male",
          "Male",
          "Male",
          "Male",
          "Female",
          "Female",
          "Male",
          "Female",
          "Non-binary / Third gender",
          "Male",
          "Male",
          "Non-binary / Third gender",
          "Female",
          "Female",
          "Male",
          "Male",
          "Female",
          "Female",
          "Female",
          "Male",
          "Male",
          "Female",
          "Female",
          "Female",
          "Male",
          "Female",
          "Female",
          "Male",
          "Male",
          "Male",
          "Male",
          "Male",
          "Male",
          "Male",
          "Female",
          "Male",
          "Female",
          "Male",
          "Female",
          "Male",
          "Male",
          "Male",
          "Female",
          "Female",
          "Male",
          "Male",
          "Prefer not to say",
          "Female",
          "Male",
          "Female",
          "Male",
          "Female",
          "Male",
          "Male",
          "No Response",
          "Female",
          "Female",
          "Female",
          "Female",
          "Female",
          "Female",
          "Female",
          "Female",
          "Female",
          "Male",
          "Male",
          "Female",
          "Male",
          "Female",
          "Male",
          "Female",
          "Female",
          "Male",
          "Female",
          "Male",
          "Male",
          "Female",
          "Female",
          "Female",
          "Male",
          "Male",
          "Female",
          "Male",
          "Male",
          "Male",
          "Female",
          "Female",
          "Male",
          "Male"
         ],
         "legendgroup": "",
         "name": "",
         "showlegend": true,
         "type": "pie"
        }
       ],
       "layout": {
        "legend": {
         "tracegroupgap": 0
        },
        "piecolorway": [
         "#8A100B",
         "#BC9B6A"
        ],
        "template": {
         "data": {
          "bar": [
           {
            "error_x": {
             "color": "#2a3f5f"
            },
            "error_y": {
             "color": "#2a3f5f"
            },
            "marker": {
             "line": {
              "color": "#E5ECF6",
              "width": 0.5
             },
             "pattern": {
              "fillmode": "overlay",
              "size": 10,
              "solidity": 0.2
             }
            },
            "type": "bar"
           }
          ],
          "barpolar": [
           {
            "marker": {
             "line": {
              "color": "#E5ECF6",
              "width": 0.5
             },
             "pattern": {
              "fillmode": "overlay",
              "size": 10,
              "solidity": 0.2
             }
            },
            "type": "barpolar"
           }
          ],
          "carpet": [
           {
            "aaxis": {
             "endlinecolor": "#2a3f5f",
             "gridcolor": "white",
             "linecolor": "white",
             "minorgridcolor": "white",
             "startlinecolor": "#2a3f5f"
            },
            "baxis": {
             "endlinecolor": "#2a3f5f",
             "gridcolor": "white",
             "linecolor": "white",
             "minorgridcolor": "white",
             "startlinecolor": "#2a3f5f"
            },
            "type": "carpet"
           }
          ],
          "choropleth": [
           {
            "colorbar": {
             "outlinewidth": 0,
             "ticks": ""
            },
            "type": "choropleth"
           }
          ],
          "contour": [
           {
            "colorbar": {
             "outlinewidth": 0,
             "ticks": ""
            },
            "colorscale": [
             [
              0,
              "#0d0887"
             ],
             [
              0.1111111111111111,
              "#46039f"
             ],
             [
              0.2222222222222222,
              "#7201a8"
             ],
             [
              0.3333333333333333,
              "#9c179e"
             ],
             [
              0.4444444444444444,
              "#bd3786"
             ],
             [
              0.5555555555555556,
              "#d8576b"
             ],
             [
              0.6666666666666666,
              "#ed7953"
             ],
             [
              0.7777777777777778,
              "#fb9f3a"
             ],
             [
              0.8888888888888888,
              "#fdca26"
             ],
             [
              1,
              "#f0f921"
             ]
            ],
            "type": "contour"
           }
          ],
          "contourcarpet": [
           {
            "colorbar": {
             "outlinewidth": 0,
             "ticks": ""
            },
            "type": "contourcarpet"
           }
          ],
          "heatmap": [
           {
            "colorbar": {
             "outlinewidth": 0,
             "ticks": ""
            },
            "colorscale": [
             [
              0,
              "#0d0887"
             ],
             [
              0.1111111111111111,
              "#46039f"
             ],
             [
              0.2222222222222222,
              "#7201a8"
             ],
             [
              0.3333333333333333,
              "#9c179e"
             ],
             [
              0.4444444444444444,
              "#bd3786"
             ],
             [
              0.5555555555555556,
              "#d8576b"
             ],
             [
              0.6666666666666666,
              "#ed7953"
             ],
             [
              0.7777777777777778,
              "#fb9f3a"
             ],
             [
              0.8888888888888888,
              "#fdca26"
             ],
             [
              1,
              "#f0f921"
             ]
            ],
            "type": "heatmap"
           }
          ],
          "heatmapgl": [
           {
            "colorbar": {
             "outlinewidth": 0,
             "ticks": ""
            },
            "colorscale": [
             [
              0,
              "#0d0887"
             ],
             [
              0.1111111111111111,
              "#46039f"
             ],
             [
              0.2222222222222222,
              "#7201a8"
             ],
             [
              0.3333333333333333,
              "#9c179e"
             ],
             [
              0.4444444444444444,
              "#bd3786"
             ],
             [
              0.5555555555555556,
              "#d8576b"
             ],
             [
              0.6666666666666666,
              "#ed7953"
             ],
             [
              0.7777777777777778,
              "#fb9f3a"
             ],
             [
              0.8888888888888888,
              "#fdca26"
             ],
             [
              1,
              "#f0f921"
             ]
            ],
            "type": "heatmapgl"
           }
          ],
          "histogram": [
           {
            "marker": {
             "pattern": {
              "fillmode": "overlay",
              "size": 10,
              "solidity": 0.2
             }
            },
            "type": "histogram"
           }
          ],
          "histogram2d": [
           {
            "colorbar": {
             "outlinewidth": 0,
             "ticks": ""
            },
            "colorscale": [
             [
              0,
              "#0d0887"
             ],
             [
              0.1111111111111111,
              "#46039f"
             ],
             [
              0.2222222222222222,
              "#7201a8"
             ],
             [
              0.3333333333333333,
              "#9c179e"
             ],
             [
              0.4444444444444444,
              "#bd3786"
             ],
             [
              0.5555555555555556,
              "#d8576b"
             ],
             [
              0.6666666666666666,
              "#ed7953"
             ],
             [
              0.7777777777777778,
              "#fb9f3a"
             ],
             [
              0.8888888888888888,
              "#fdca26"
             ],
             [
              1,
              "#f0f921"
             ]
            ],
            "type": "histogram2d"
           }
          ],
          "histogram2dcontour": [
           {
            "colorbar": {
             "outlinewidth": 0,
             "ticks": ""
            },
            "colorscale": [
             [
              0,
              "#0d0887"
             ],
             [
              0.1111111111111111,
              "#46039f"
             ],
             [
              0.2222222222222222,
              "#7201a8"
             ],
             [
              0.3333333333333333,
              "#9c179e"
             ],
             [
              0.4444444444444444,
              "#bd3786"
             ],
             [
              0.5555555555555556,
              "#d8576b"
             ],
             [
              0.6666666666666666,
              "#ed7953"
             ],
             [
              0.7777777777777778,
              "#fb9f3a"
             ],
             [
              0.8888888888888888,
              "#fdca26"
             ],
             [
              1,
              "#f0f921"
             ]
            ],
            "type": "histogram2dcontour"
           }
          ],
          "mesh3d": [
           {
            "colorbar": {
             "outlinewidth": 0,
             "ticks": ""
            },
            "type": "mesh3d"
           }
          ],
          "parcoords": [
           {
            "line": {
             "colorbar": {
              "outlinewidth": 0,
              "ticks": ""
             }
            },
            "type": "parcoords"
           }
          ],
          "pie": [
           {
            "automargin": true,
            "type": "pie"
           }
          ],
          "scatter": [
           {
            "fillpattern": {
             "fillmode": "overlay",
             "size": 10,
             "solidity": 0.2
            },
            "type": "scatter"
           }
          ],
          "scatter3d": [
           {
            "line": {
             "colorbar": {
              "outlinewidth": 0,
              "ticks": ""
             }
            },
            "marker": {
             "colorbar": {
              "outlinewidth": 0,
              "ticks": ""
             }
            },
            "type": "scatter3d"
           }
          ],
          "scattercarpet": [
           {
            "marker": {
             "colorbar": {
              "outlinewidth": 0,
              "ticks": ""
             }
            },
            "type": "scattercarpet"
           }
          ],
          "scattergeo": [
           {
            "marker": {
             "colorbar": {
              "outlinewidth": 0,
              "ticks": ""
             }
            },
            "type": "scattergeo"
           }
          ],
          "scattergl": [
           {
            "marker": {
             "colorbar": {
              "outlinewidth": 0,
              "ticks": ""
             }
            },
            "type": "scattergl"
           }
          ],
          "scattermapbox": [
           {
            "marker": {
             "colorbar": {
              "outlinewidth": 0,
              "ticks": ""
             }
            },
            "type": "scattermapbox"
           }
          ],
          "scatterpolar": [
           {
            "marker": {
             "colorbar": {
              "outlinewidth": 0,
              "ticks": ""
             }
            },
            "type": "scatterpolar"
           }
          ],
          "scatterpolargl": [
           {
            "marker": {
             "colorbar": {
              "outlinewidth": 0,
              "ticks": ""
             }
            },
            "type": "scatterpolargl"
           }
          ],
          "scatterternary": [
           {
            "marker": {
             "colorbar": {
              "outlinewidth": 0,
              "ticks": ""
             }
            },
            "type": "scatterternary"
           }
          ],
          "surface": [
           {
            "colorbar": {
             "outlinewidth": 0,
             "ticks": ""
            },
            "colorscale": [
             [
              0,
              "#0d0887"
             ],
             [
              0.1111111111111111,
              "#46039f"
             ],
             [
              0.2222222222222222,
              "#7201a8"
             ],
             [
              0.3333333333333333,
              "#9c179e"
             ],
             [
              0.4444444444444444,
              "#bd3786"
             ],
             [
              0.5555555555555556,
              "#d8576b"
             ],
             [
              0.6666666666666666,
              "#ed7953"
             ],
             [
              0.7777777777777778,
              "#fb9f3a"
             ],
             [
              0.8888888888888888,
              "#fdca26"
             ],
             [
              1,
              "#f0f921"
             ]
            ],
            "type": "surface"
           }
          ],
          "table": [
           {
            "cells": {
             "fill": {
              "color": "#EBF0F8"
             },
             "line": {
              "color": "white"
             }
            },
            "header": {
             "fill": {
              "color": "#C8D4E3"
             },
             "line": {
              "color": "white"
             }
            },
            "type": "table"
           }
          ]
         },
         "layout": {
          "annotationdefaults": {
           "arrowcolor": "#2a3f5f",
           "arrowhead": 0,
           "arrowwidth": 1
          },
          "autotypenumbers": "strict",
          "coloraxis": {
           "colorbar": {
            "outlinewidth": 0,
            "ticks": ""
           }
          },
          "colorscale": {
           "diverging": [
            [
             0,
             "#8e0152"
            ],
            [
             0.1,
             "#c51b7d"
            ],
            [
             0.2,
             "#de77ae"
            ],
            [
             0.3,
             "#f1b6da"
            ],
            [
             0.4,
             "#fde0ef"
            ],
            [
             0.5,
             "#f7f7f7"
            ],
            [
             0.6,
             "#e6f5d0"
            ],
            [
             0.7,
             "#b8e186"
            ],
            [
             0.8,
             "#7fbc41"
            ],
            [
             0.9,
             "#4d9221"
            ],
            [
             1,
             "#276419"
            ]
           ],
           "sequential": [
            [
             0,
             "#0d0887"
            ],
            [
             0.1111111111111111,
             "#46039f"
            ],
            [
             0.2222222222222222,
             "#7201a8"
            ],
            [
             0.3333333333333333,
             "#9c179e"
            ],
            [
             0.4444444444444444,
             "#bd3786"
            ],
            [
             0.5555555555555556,
             "#d8576b"
            ],
            [
             0.6666666666666666,
             "#ed7953"
            ],
            [
             0.7777777777777778,
             "#fb9f3a"
            ],
            [
             0.8888888888888888,
             "#fdca26"
            ],
            [
             1,
             "#f0f921"
            ]
           ],
           "sequentialminus": [
            [
             0,
             "#0d0887"
            ],
            [
             0.1111111111111111,
             "#46039f"
            ],
            [
             0.2222222222222222,
             "#7201a8"
            ],
            [
             0.3333333333333333,
             "#9c179e"
            ],
            [
             0.4444444444444444,
             "#bd3786"
            ],
            [
             0.5555555555555556,
             "#d8576b"
            ],
            [
             0.6666666666666666,
             "#ed7953"
            ],
            [
             0.7777777777777778,
             "#fb9f3a"
            ],
            [
             0.8888888888888888,
             "#fdca26"
            ],
            [
             1,
             "#f0f921"
            ]
           ]
          },
          "colorway": [
           "#636efa",
           "#EF553B",
           "#00cc96",
           "#ab63fa",
           "#FFA15A",
           "#19d3f3",
           "#FF6692",
           "#B6E880",
           "#FF97FF",
           "#FECB52"
          ],
          "font": {
           "color": "#2a3f5f"
          },
          "geo": {
           "bgcolor": "white",
           "lakecolor": "white",
           "landcolor": "#E5ECF6",
           "showlakes": true,
           "showland": true,
           "subunitcolor": "white"
          },
          "hoverlabel": {
           "align": "left"
          },
          "hovermode": "closest",
          "mapbox": {
           "style": "light"
          },
          "paper_bgcolor": "white",
          "plot_bgcolor": "#E5ECF6",
          "polar": {
           "angularaxis": {
            "gridcolor": "white",
            "linecolor": "white",
            "ticks": ""
           },
           "bgcolor": "#E5ECF6",
           "radialaxis": {
            "gridcolor": "white",
            "linecolor": "white",
            "ticks": ""
           }
          },
          "scene": {
           "xaxis": {
            "backgroundcolor": "#E5ECF6",
            "gridcolor": "white",
            "gridwidth": 2,
            "linecolor": "white",
            "showbackground": true,
            "ticks": "",
            "zerolinecolor": "white"
           },
           "yaxis": {
            "backgroundcolor": "#E5ECF6",
            "gridcolor": "white",
            "gridwidth": 2,
            "linecolor": "white",
            "showbackground": true,
            "ticks": "",
            "zerolinecolor": "white"
           },
           "zaxis": {
            "backgroundcolor": "#E5ECF6",
            "gridcolor": "white",
            "gridwidth": 2,
            "linecolor": "white",
            "showbackground": true,
            "ticks": "",
            "zerolinecolor": "white"
           }
          },
          "shapedefaults": {
           "line": {
            "color": "#2a3f5f"
           }
          },
          "ternary": {
           "aaxis": {
            "gridcolor": "white",
            "linecolor": "white",
            "ticks": ""
           },
           "baxis": {
            "gridcolor": "white",
            "linecolor": "white",
            "ticks": ""
           },
           "bgcolor": "#E5ECF6",
           "caxis": {
            "gridcolor": "white",
            "linecolor": "white",
            "ticks": ""
           }
          },
          "title": {
           "x": 0.05
          },
          "xaxis": {
           "automargin": true,
           "gridcolor": "white",
           "linecolor": "white",
           "ticks": "",
           "title": {
            "standoff": 15
           },
           "zerolinecolor": "white",
           "zerolinewidth": 2
          },
          "yaxis": {
           "automargin": true,
           "gridcolor": "white",
           "linecolor": "white",
           "ticks": "",
           "title": {
            "standoff": 15
           },
           "zerolinecolor": "white",
           "zerolinewidth": 2
          }
         }
        },
        "title": {
         "text": "What is your gender?"
        }
       }
      }
     },
     "metadata": {},
     "output_type": "display_data"
    }
   ],
   "source": [
    "fig1 = px.pie(df_alias, names = \"col7\", title=alias_map[\"col7\"], color_discrete_sequence=[\"#8A100B\", \"#BC9B6A\"]\n",
    ")\n",
    "\n",
    "fig1.show()"
   ]
  },
  {
   "cell_type": "code",
   "execution_count": 4,
   "id": "094b24cc",
   "metadata": {},
   "outputs": [
    {
     "data": {
      "application/vnd.plotly.v1+json": {
       "config": {
        "plotlyServerURL": "https://plot.ly"
       },
       "data": [
        {
         "domain": {
          "x": [
           0,
           1
          ],
          "y": [
           0,
           1
          ]
         },
         "hovertemplate": "col8=%{label}<extra></extra>",
         "labels": [
          "Asian",
          "White",
          "White",
          "American Indian or Alaska Native,White",
          "White",
          "White",
          "White",
          "Asian",
          "Black or African American",
          "White",
          "Prefer not to say",
          "White",
          "White",
          "White",
          "White",
          "Black or African American",
          "White",
          "White",
          "White",
          "Prefer not to say",
          "White",
          "No Response",
          "White",
          "White",
          "White",
          "White",
          "White",
          "White",
          "Hispanic or Latino",
          "Prefer not to say",
          "Hispanic or Latino,White",
          "White",
          "White",
          "White",
          "White",
          "White",
          "White",
          "White",
          "White",
          "White",
          "White",
          "White",
          "White",
          "White",
          "White",
          "White",
          "White",
          "White",
          "White",
          "White",
          "White",
          "Hispanic or Latino,White",
          "White",
          "White",
          "White",
          "White",
          "White",
          "White",
          "White",
          "Prefer not to say",
          "White",
          "White",
          "Asian",
          "White",
          "White",
          "White",
          "Hispanic or Latino,White",
          "White",
          "White",
          "Prefer not to say",
          "White",
          "White",
          "Asian",
          "White",
          "White",
          "White",
          "Hispanic or Latino",
          "White",
          "White",
          "White",
          "White",
          "Black or African American,Hispanic or Latino",
          "White",
          "Black or African American",
          "White",
          "White",
          "Hispanic or Latino",
          "Prefer not to say",
          "Asian",
          "White",
          "Native Hawaiian or Other Pacific Islander,White",
          "White",
          "White",
          "White",
          "White",
          "Black or African American",
          "White",
          "Asian",
          "White",
          "White",
          "White",
          "White",
          "White",
          "White",
          "White",
          "Black or African American,White",
          "Prefer not to say",
          "White",
          "White",
          "White",
          "White",
          "Hispanic or Latino"
         ],
         "legendgroup": "",
         "name": "",
         "showlegend": true,
         "type": "pie"
        }
       ],
       "layout": {
        "legend": {
         "tracegroupgap": 0
        },
        "piecolorway": [
         "#8A100B",
         "#BC9B6A"
        ],
        "template": {
         "data": {
          "bar": [
           {
            "error_x": {
             "color": "#2a3f5f"
            },
            "error_y": {
             "color": "#2a3f5f"
            },
            "marker": {
             "line": {
              "color": "#E5ECF6",
              "width": 0.5
             },
             "pattern": {
              "fillmode": "overlay",
              "size": 10,
              "solidity": 0.2
             }
            },
            "type": "bar"
           }
          ],
          "barpolar": [
           {
            "marker": {
             "line": {
              "color": "#E5ECF6",
              "width": 0.5
             },
             "pattern": {
              "fillmode": "overlay",
              "size": 10,
              "solidity": 0.2
             }
            },
            "type": "barpolar"
           }
          ],
          "carpet": [
           {
            "aaxis": {
             "endlinecolor": "#2a3f5f",
             "gridcolor": "white",
             "linecolor": "white",
             "minorgridcolor": "white",
             "startlinecolor": "#2a3f5f"
            },
            "baxis": {
             "endlinecolor": "#2a3f5f",
             "gridcolor": "white",
             "linecolor": "white",
             "minorgridcolor": "white",
             "startlinecolor": "#2a3f5f"
            },
            "type": "carpet"
           }
          ],
          "choropleth": [
           {
            "colorbar": {
             "outlinewidth": 0,
             "ticks": ""
            },
            "type": "choropleth"
           }
          ],
          "contour": [
           {
            "colorbar": {
             "outlinewidth": 0,
             "ticks": ""
            },
            "colorscale": [
             [
              0,
              "#0d0887"
             ],
             [
              0.1111111111111111,
              "#46039f"
             ],
             [
              0.2222222222222222,
              "#7201a8"
             ],
             [
              0.3333333333333333,
              "#9c179e"
             ],
             [
              0.4444444444444444,
              "#bd3786"
             ],
             [
              0.5555555555555556,
              "#d8576b"
             ],
             [
              0.6666666666666666,
              "#ed7953"
             ],
             [
              0.7777777777777778,
              "#fb9f3a"
             ],
             [
              0.8888888888888888,
              "#fdca26"
             ],
             [
              1,
              "#f0f921"
             ]
            ],
            "type": "contour"
           }
          ],
          "contourcarpet": [
           {
            "colorbar": {
             "outlinewidth": 0,
             "ticks": ""
            },
            "type": "contourcarpet"
           }
          ],
          "heatmap": [
           {
            "colorbar": {
             "outlinewidth": 0,
             "ticks": ""
            },
            "colorscale": [
             [
              0,
              "#0d0887"
             ],
             [
              0.1111111111111111,
              "#46039f"
             ],
             [
              0.2222222222222222,
              "#7201a8"
             ],
             [
              0.3333333333333333,
              "#9c179e"
             ],
             [
              0.4444444444444444,
              "#bd3786"
             ],
             [
              0.5555555555555556,
              "#d8576b"
             ],
             [
              0.6666666666666666,
              "#ed7953"
             ],
             [
              0.7777777777777778,
              "#fb9f3a"
             ],
             [
              0.8888888888888888,
              "#fdca26"
             ],
             [
              1,
              "#f0f921"
             ]
            ],
            "type": "heatmap"
           }
          ],
          "heatmapgl": [
           {
            "colorbar": {
             "outlinewidth": 0,
             "ticks": ""
            },
            "colorscale": [
             [
              0,
              "#0d0887"
             ],
             [
              0.1111111111111111,
              "#46039f"
             ],
             [
              0.2222222222222222,
              "#7201a8"
             ],
             [
              0.3333333333333333,
              "#9c179e"
             ],
             [
              0.4444444444444444,
              "#bd3786"
             ],
             [
              0.5555555555555556,
              "#d8576b"
             ],
             [
              0.6666666666666666,
              "#ed7953"
             ],
             [
              0.7777777777777778,
              "#fb9f3a"
             ],
             [
              0.8888888888888888,
              "#fdca26"
             ],
             [
              1,
              "#f0f921"
             ]
            ],
            "type": "heatmapgl"
           }
          ],
          "histogram": [
           {
            "marker": {
             "pattern": {
              "fillmode": "overlay",
              "size": 10,
              "solidity": 0.2
             }
            },
            "type": "histogram"
           }
          ],
          "histogram2d": [
           {
            "colorbar": {
             "outlinewidth": 0,
             "ticks": ""
            },
            "colorscale": [
             [
              0,
              "#0d0887"
             ],
             [
              0.1111111111111111,
              "#46039f"
             ],
             [
              0.2222222222222222,
              "#7201a8"
             ],
             [
              0.3333333333333333,
              "#9c179e"
             ],
             [
              0.4444444444444444,
              "#bd3786"
             ],
             [
              0.5555555555555556,
              "#d8576b"
             ],
             [
              0.6666666666666666,
              "#ed7953"
             ],
             [
              0.7777777777777778,
              "#fb9f3a"
             ],
             [
              0.8888888888888888,
              "#fdca26"
             ],
             [
              1,
              "#f0f921"
             ]
            ],
            "type": "histogram2d"
           }
          ],
          "histogram2dcontour": [
           {
            "colorbar": {
             "outlinewidth": 0,
             "ticks": ""
            },
            "colorscale": [
             [
              0,
              "#0d0887"
             ],
             [
              0.1111111111111111,
              "#46039f"
             ],
             [
              0.2222222222222222,
              "#7201a8"
             ],
             [
              0.3333333333333333,
              "#9c179e"
             ],
             [
              0.4444444444444444,
              "#bd3786"
             ],
             [
              0.5555555555555556,
              "#d8576b"
             ],
             [
              0.6666666666666666,
              "#ed7953"
             ],
             [
              0.7777777777777778,
              "#fb9f3a"
             ],
             [
              0.8888888888888888,
              "#fdca26"
             ],
             [
              1,
              "#f0f921"
             ]
            ],
            "type": "histogram2dcontour"
           }
          ],
          "mesh3d": [
           {
            "colorbar": {
             "outlinewidth": 0,
             "ticks": ""
            },
            "type": "mesh3d"
           }
          ],
          "parcoords": [
           {
            "line": {
             "colorbar": {
              "outlinewidth": 0,
              "ticks": ""
             }
            },
            "type": "parcoords"
           }
          ],
          "pie": [
           {
            "automargin": true,
            "type": "pie"
           }
          ],
          "scatter": [
           {
            "fillpattern": {
             "fillmode": "overlay",
             "size": 10,
             "solidity": 0.2
            },
            "type": "scatter"
           }
          ],
          "scatter3d": [
           {
            "line": {
             "colorbar": {
              "outlinewidth": 0,
              "ticks": ""
             }
            },
            "marker": {
             "colorbar": {
              "outlinewidth": 0,
              "ticks": ""
             }
            },
            "type": "scatter3d"
           }
          ],
          "scattercarpet": [
           {
            "marker": {
             "colorbar": {
              "outlinewidth": 0,
              "ticks": ""
             }
            },
            "type": "scattercarpet"
           }
          ],
          "scattergeo": [
           {
            "marker": {
             "colorbar": {
              "outlinewidth": 0,
              "ticks": ""
             }
            },
            "type": "scattergeo"
           }
          ],
          "scattergl": [
           {
            "marker": {
             "colorbar": {
              "outlinewidth": 0,
              "ticks": ""
             }
            },
            "type": "scattergl"
           }
          ],
          "scattermapbox": [
           {
            "marker": {
             "colorbar": {
              "outlinewidth": 0,
              "ticks": ""
             }
            },
            "type": "scattermapbox"
           }
          ],
          "scatterpolar": [
           {
            "marker": {
             "colorbar": {
              "outlinewidth": 0,
              "ticks": ""
             }
            },
            "type": "scatterpolar"
           }
          ],
          "scatterpolargl": [
           {
            "marker": {
             "colorbar": {
              "outlinewidth": 0,
              "ticks": ""
             }
            },
            "type": "scatterpolargl"
           }
          ],
          "scatterternary": [
           {
            "marker": {
             "colorbar": {
              "outlinewidth": 0,
              "ticks": ""
             }
            },
            "type": "scatterternary"
           }
          ],
          "surface": [
           {
            "colorbar": {
             "outlinewidth": 0,
             "ticks": ""
            },
            "colorscale": [
             [
              0,
              "#0d0887"
             ],
             [
              0.1111111111111111,
              "#46039f"
             ],
             [
              0.2222222222222222,
              "#7201a8"
             ],
             [
              0.3333333333333333,
              "#9c179e"
             ],
             [
              0.4444444444444444,
              "#bd3786"
             ],
             [
              0.5555555555555556,
              "#d8576b"
             ],
             [
              0.6666666666666666,
              "#ed7953"
             ],
             [
              0.7777777777777778,
              "#fb9f3a"
             ],
             [
              0.8888888888888888,
              "#fdca26"
             ],
             [
              1,
              "#f0f921"
             ]
            ],
            "type": "surface"
           }
          ],
          "table": [
           {
            "cells": {
             "fill": {
              "color": "#EBF0F8"
             },
             "line": {
              "color": "white"
             }
            },
            "header": {
             "fill": {
              "color": "#C8D4E3"
             },
             "line": {
              "color": "white"
             }
            },
            "type": "table"
           }
          ]
         },
         "layout": {
          "annotationdefaults": {
           "arrowcolor": "#2a3f5f",
           "arrowhead": 0,
           "arrowwidth": 1
          },
          "autotypenumbers": "strict",
          "coloraxis": {
           "colorbar": {
            "outlinewidth": 0,
            "ticks": ""
           }
          },
          "colorscale": {
           "diverging": [
            [
             0,
             "#8e0152"
            ],
            [
             0.1,
             "#c51b7d"
            ],
            [
             0.2,
             "#de77ae"
            ],
            [
             0.3,
             "#f1b6da"
            ],
            [
             0.4,
             "#fde0ef"
            ],
            [
             0.5,
             "#f7f7f7"
            ],
            [
             0.6,
             "#e6f5d0"
            ],
            [
             0.7,
             "#b8e186"
            ],
            [
             0.8,
             "#7fbc41"
            ],
            [
             0.9,
             "#4d9221"
            ],
            [
             1,
             "#276419"
            ]
           ],
           "sequential": [
            [
             0,
             "#0d0887"
            ],
            [
             0.1111111111111111,
             "#46039f"
            ],
            [
             0.2222222222222222,
             "#7201a8"
            ],
            [
             0.3333333333333333,
             "#9c179e"
            ],
            [
             0.4444444444444444,
             "#bd3786"
            ],
            [
             0.5555555555555556,
             "#d8576b"
            ],
            [
             0.6666666666666666,
             "#ed7953"
            ],
            [
             0.7777777777777778,
             "#fb9f3a"
            ],
            [
             0.8888888888888888,
             "#fdca26"
            ],
            [
             1,
             "#f0f921"
            ]
           ],
           "sequentialminus": [
            [
             0,
             "#0d0887"
            ],
            [
             0.1111111111111111,
             "#46039f"
            ],
            [
             0.2222222222222222,
             "#7201a8"
            ],
            [
             0.3333333333333333,
             "#9c179e"
            ],
            [
             0.4444444444444444,
             "#bd3786"
            ],
            [
             0.5555555555555556,
             "#d8576b"
            ],
            [
             0.6666666666666666,
             "#ed7953"
            ],
            [
             0.7777777777777778,
             "#fb9f3a"
            ],
            [
             0.8888888888888888,
             "#fdca26"
            ],
            [
             1,
             "#f0f921"
            ]
           ]
          },
          "colorway": [
           "#636efa",
           "#EF553B",
           "#00cc96",
           "#ab63fa",
           "#FFA15A",
           "#19d3f3",
           "#FF6692",
           "#B6E880",
           "#FF97FF",
           "#FECB52"
          ],
          "font": {
           "color": "#2a3f5f"
          },
          "geo": {
           "bgcolor": "white",
           "lakecolor": "white",
           "landcolor": "#E5ECF6",
           "showlakes": true,
           "showland": true,
           "subunitcolor": "white"
          },
          "hoverlabel": {
           "align": "left"
          },
          "hovermode": "closest",
          "mapbox": {
           "style": "light"
          },
          "paper_bgcolor": "white",
          "plot_bgcolor": "#E5ECF6",
          "polar": {
           "angularaxis": {
            "gridcolor": "white",
            "linecolor": "white",
            "ticks": ""
           },
           "bgcolor": "#E5ECF6",
           "radialaxis": {
            "gridcolor": "white",
            "linecolor": "white",
            "ticks": ""
           }
          },
          "scene": {
           "xaxis": {
            "backgroundcolor": "#E5ECF6",
            "gridcolor": "white",
            "gridwidth": 2,
            "linecolor": "white",
            "showbackground": true,
            "ticks": "",
            "zerolinecolor": "white"
           },
           "yaxis": {
            "backgroundcolor": "#E5ECF6",
            "gridcolor": "white",
            "gridwidth": 2,
            "linecolor": "white",
            "showbackground": true,
            "ticks": "",
            "zerolinecolor": "white"
           },
           "zaxis": {
            "backgroundcolor": "#E5ECF6",
            "gridcolor": "white",
            "gridwidth": 2,
            "linecolor": "white",
            "showbackground": true,
            "ticks": "",
            "zerolinecolor": "white"
           }
          },
          "shapedefaults": {
           "line": {
            "color": "#2a3f5f"
           }
          },
          "ternary": {
           "aaxis": {
            "gridcolor": "white",
            "linecolor": "white",
            "ticks": ""
           },
           "baxis": {
            "gridcolor": "white",
            "linecolor": "white",
            "ticks": ""
           },
           "bgcolor": "#E5ECF6",
           "caxis": {
            "gridcolor": "white",
            "linecolor": "white",
            "ticks": ""
           }
          },
          "title": {
           "x": 0.05
          },
          "xaxis": {
           "automargin": true,
           "gridcolor": "white",
           "linecolor": "white",
           "ticks": "",
           "title": {
            "standoff": 15
           },
           "zerolinecolor": "white",
           "zerolinewidth": 2
          },
          "yaxis": {
           "automargin": true,
           "gridcolor": "white",
           "linecolor": "white",
           "ticks": "",
           "title": {
            "standoff": 15
           },
           "zerolinecolor": "white",
           "zerolinewidth": 2
          }
         }
        },
        "title": {
         "text": "What is your race/ethnicity?"
        }
       }
      }
     },
     "metadata": {},
     "output_type": "display_data"
    }
   ],
   "source": [
    "fig2 = px.pie(df_alias, names = \"col8\", title=alias_map[\"col8\"],color_discrete_sequence=[\"#8A100B\", \"#BC9B6A\"]\n",
    ")\n",
    "\n",
    "fig2.show()"
   ]
  },
  {
   "cell_type": "code",
   "execution_count": 5,
   "id": "bef193db",
   "metadata": {},
   "outputs": [
    {
     "data": {
      "application/vnd.plotly.v1+json": {
       "config": {
        "plotlyServerURL": "https://plot.ly"
       },
       "data": [
        {
         "alignmentgroup": "True",
         "hovertemplate": "col9=%{x}<br>count=%{y}<extra></extra>",
         "legendgroup": "",
         "marker": {
          "color": "#8A100B",
          "pattern": {
           "shape": ""
          }
         },
         "name": "",
         "offsetgroup": "",
         "orientation": "v",
         "showlegend": false,
         "textposition": "auto",
         "type": "bar",
         "x": [
          1,
          4,
          8,
          8,
          3,
          7,
          3,
          2,
          25,
          4,
          3,
          3,
          1,
          3,
          4,
          5,
          4,
          7,
          3,
          19,
          1,
          "No Response",
          5,
          28,
          11,
          2,
          10,
          10,
          3,
          1,
          1,
          4,
          7,
          4,
          3,
          8,
          1,
          7,
          8,
          3,
          4,
          5,
          1,
          12,
          4,
          5,
          7,
          1,
          4,
          5,
          6,
          9,
          2,
          4,
          2,
          3,
          2,
          6,
          4,
          3,
          10,
          3,
          4,
          10,
          30,
          10,
          1,
          6,
          3,
          2,
          4,
          8,
          3,
          2,
          10,
          2,
          7,
          15,
          1,
          5,
          8,
          3,
          4,
          2,
          3,
          4,
          3,
          1,
          3,
          4,
          2,
          1,
          6,
          1,
          1,
          2,
          9,
          2,
          3,
          20,
          5,
          17,
          6,
          1,
          3,
          10,
          1,
          40,
          8,
          8,
          2,
          6
         ],
         "xaxis": "x",
         "y": [
          1,
          1,
          1,
          1,
          1,
          1,
          1,
          1,
          1,
          1,
          1,
          1,
          1,
          1,
          1,
          1,
          1,
          1,
          1,
          1,
          1,
          1,
          1,
          1,
          1,
          1,
          1,
          1,
          1,
          1,
          1,
          1,
          1,
          1,
          1,
          1,
          1,
          1,
          1,
          1,
          1,
          1,
          1,
          1,
          1,
          1,
          1,
          1,
          1,
          1,
          1,
          1,
          1,
          1,
          1,
          1,
          1,
          1,
          1,
          1,
          1,
          1,
          1,
          1,
          1,
          1,
          1,
          1,
          1,
          1,
          1,
          1,
          1,
          1,
          1,
          1,
          1,
          1,
          1,
          1,
          1,
          1,
          1,
          1,
          1,
          1,
          1,
          1,
          1,
          1,
          1,
          1,
          1,
          1,
          1,
          1,
          1,
          1,
          1,
          1,
          1,
          1,
          1,
          1,
          1,
          1,
          1,
          1,
          1,
          1,
          1,
          1
         ],
         "yaxis": "y"
        }
       ],
       "layout": {
        "barmode": "relative",
        "legend": {
         "tracegroupgap": 0
        },
        "template": {
         "data": {
          "bar": [
           {
            "error_x": {
             "color": "#2a3f5f"
            },
            "error_y": {
             "color": "#2a3f5f"
            },
            "marker": {
             "line": {
              "color": "#E5ECF6",
              "width": 0.5
             },
             "pattern": {
              "fillmode": "overlay",
              "size": 10,
              "solidity": 0.2
             }
            },
            "type": "bar"
           }
          ],
          "barpolar": [
           {
            "marker": {
             "line": {
              "color": "#E5ECF6",
              "width": 0.5
             },
             "pattern": {
              "fillmode": "overlay",
              "size": 10,
              "solidity": 0.2
             }
            },
            "type": "barpolar"
           }
          ],
          "carpet": [
           {
            "aaxis": {
             "endlinecolor": "#2a3f5f",
             "gridcolor": "white",
             "linecolor": "white",
             "minorgridcolor": "white",
             "startlinecolor": "#2a3f5f"
            },
            "baxis": {
             "endlinecolor": "#2a3f5f",
             "gridcolor": "white",
             "linecolor": "white",
             "minorgridcolor": "white",
             "startlinecolor": "#2a3f5f"
            },
            "type": "carpet"
           }
          ],
          "choropleth": [
           {
            "colorbar": {
             "outlinewidth": 0,
             "ticks": ""
            },
            "type": "choropleth"
           }
          ],
          "contour": [
           {
            "colorbar": {
             "outlinewidth": 0,
             "ticks": ""
            },
            "colorscale": [
             [
              0,
              "#0d0887"
             ],
             [
              0.1111111111111111,
              "#46039f"
             ],
             [
              0.2222222222222222,
              "#7201a8"
             ],
             [
              0.3333333333333333,
              "#9c179e"
             ],
             [
              0.4444444444444444,
              "#bd3786"
             ],
             [
              0.5555555555555556,
              "#d8576b"
             ],
             [
              0.6666666666666666,
              "#ed7953"
             ],
             [
              0.7777777777777778,
              "#fb9f3a"
             ],
             [
              0.8888888888888888,
              "#fdca26"
             ],
             [
              1,
              "#f0f921"
             ]
            ],
            "type": "contour"
           }
          ],
          "contourcarpet": [
           {
            "colorbar": {
             "outlinewidth": 0,
             "ticks": ""
            },
            "type": "contourcarpet"
           }
          ],
          "heatmap": [
           {
            "colorbar": {
             "outlinewidth": 0,
             "ticks": ""
            },
            "colorscale": [
             [
              0,
              "#0d0887"
             ],
             [
              0.1111111111111111,
              "#46039f"
             ],
             [
              0.2222222222222222,
              "#7201a8"
             ],
             [
              0.3333333333333333,
              "#9c179e"
             ],
             [
              0.4444444444444444,
              "#bd3786"
             ],
             [
              0.5555555555555556,
              "#d8576b"
             ],
             [
              0.6666666666666666,
              "#ed7953"
             ],
             [
              0.7777777777777778,
              "#fb9f3a"
             ],
             [
              0.8888888888888888,
              "#fdca26"
             ],
             [
              1,
              "#f0f921"
             ]
            ],
            "type": "heatmap"
           }
          ],
          "heatmapgl": [
           {
            "colorbar": {
             "outlinewidth": 0,
             "ticks": ""
            },
            "colorscale": [
             [
              0,
              "#0d0887"
             ],
             [
              0.1111111111111111,
              "#46039f"
             ],
             [
              0.2222222222222222,
              "#7201a8"
             ],
             [
              0.3333333333333333,
              "#9c179e"
             ],
             [
              0.4444444444444444,
              "#bd3786"
             ],
             [
              0.5555555555555556,
              "#d8576b"
             ],
             [
              0.6666666666666666,
              "#ed7953"
             ],
             [
              0.7777777777777778,
              "#fb9f3a"
             ],
             [
              0.8888888888888888,
              "#fdca26"
             ],
             [
              1,
              "#f0f921"
             ]
            ],
            "type": "heatmapgl"
           }
          ],
          "histogram": [
           {
            "marker": {
             "pattern": {
              "fillmode": "overlay",
              "size": 10,
              "solidity": 0.2
             }
            },
            "type": "histogram"
           }
          ],
          "histogram2d": [
           {
            "colorbar": {
             "outlinewidth": 0,
             "ticks": ""
            },
            "colorscale": [
             [
              0,
              "#0d0887"
             ],
             [
              0.1111111111111111,
              "#46039f"
             ],
             [
              0.2222222222222222,
              "#7201a8"
             ],
             [
              0.3333333333333333,
              "#9c179e"
             ],
             [
              0.4444444444444444,
              "#bd3786"
             ],
             [
              0.5555555555555556,
              "#d8576b"
             ],
             [
              0.6666666666666666,
              "#ed7953"
             ],
             [
              0.7777777777777778,
              "#fb9f3a"
             ],
             [
              0.8888888888888888,
              "#fdca26"
             ],
             [
              1,
              "#f0f921"
             ]
            ],
            "type": "histogram2d"
           }
          ],
          "histogram2dcontour": [
           {
            "colorbar": {
             "outlinewidth": 0,
             "ticks": ""
            },
            "colorscale": [
             [
              0,
              "#0d0887"
             ],
             [
              0.1111111111111111,
              "#46039f"
             ],
             [
              0.2222222222222222,
              "#7201a8"
             ],
             [
              0.3333333333333333,
              "#9c179e"
             ],
             [
              0.4444444444444444,
              "#bd3786"
             ],
             [
              0.5555555555555556,
              "#d8576b"
             ],
             [
              0.6666666666666666,
              "#ed7953"
             ],
             [
              0.7777777777777778,
              "#fb9f3a"
             ],
             [
              0.8888888888888888,
              "#fdca26"
             ],
             [
              1,
              "#f0f921"
             ]
            ],
            "type": "histogram2dcontour"
           }
          ],
          "mesh3d": [
           {
            "colorbar": {
             "outlinewidth": 0,
             "ticks": ""
            },
            "type": "mesh3d"
           }
          ],
          "parcoords": [
           {
            "line": {
             "colorbar": {
              "outlinewidth": 0,
              "ticks": ""
             }
            },
            "type": "parcoords"
           }
          ],
          "pie": [
           {
            "automargin": true,
            "type": "pie"
           }
          ],
          "scatter": [
           {
            "fillpattern": {
             "fillmode": "overlay",
             "size": 10,
             "solidity": 0.2
            },
            "type": "scatter"
           }
          ],
          "scatter3d": [
           {
            "line": {
             "colorbar": {
              "outlinewidth": 0,
              "ticks": ""
             }
            },
            "marker": {
             "colorbar": {
              "outlinewidth": 0,
              "ticks": ""
             }
            },
            "type": "scatter3d"
           }
          ],
          "scattercarpet": [
           {
            "marker": {
             "colorbar": {
              "outlinewidth": 0,
              "ticks": ""
             }
            },
            "type": "scattercarpet"
           }
          ],
          "scattergeo": [
           {
            "marker": {
             "colorbar": {
              "outlinewidth": 0,
              "ticks": ""
             }
            },
            "type": "scattergeo"
           }
          ],
          "scattergl": [
           {
            "marker": {
             "colorbar": {
              "outlinewidth": 0,
              "ticks": ""
             }
            },
            "type": "scattergl"
           }
          ],
          "scattermapbox": [
           {
            "marker": {
             "colorbar": {
              "outlinewidth": 0,
              "ticks": ""
             }
            },
            "type": "scattermapbox"
           }
          ],
          "scatterpolar": [
           {
            "marker": {
             "colorbar": {
              "outlinewidth": 0,
              "ticks": ""
             }
            },
            "type": "scatterpolar"
           }
          ],
          "scatterpolargl": [
           {
            "marker": {
             "colorbar": {
              "outlinewidth": 0,
              "ticks": ""
             }
            },
            "type": "scatterpolargl"
           }
          ],
          "scatterternary": [
           {
            "marker": {
             "colorbar": {
              "outlinewidth": 0,
              "ticks": ""
             }
            },
            "type": "scatterternary"
           }
          ],
          "surface": [
           {
            "colorbar": {
             "outlinewidth": 0,
             "ticks": ""
            },
            "colorscale": [
             [
              0,
              "#0d0887"
             ],
             [
              0.1111111111111111,
              "#46039f"
             ],
             [
              0.2222222222222222,
              "#7201a8"
             ],
             [
              0.3333333333333333,
              "#9c179e"
             ],
             [
              0.4444444444444444,
              "#bd3786"
             ],
             [
              0.5555555555555556,
              "#d8576b"
             ],
             [
              0.6666666666666666,
              "#ed7953"
             ],
             [
              0.7777777777777778,
              "#fb9f3a"
             ],
             [
              0.8888888888888888,
              "#fdca26"
             ],
             [
              1,
              "#f0f921"
             ]
            ],
            "type": "surface"
           }
          ],
          "table": [
           {
            "cells": {
             "fill": {
              "color": "#EBF0F8"
             },
             "line": {
              "color": "white"
             }
            },
            "header": {
             "fill": {
              "color": "#C8D4E3"
             },
             "line": {
              "color": "white"
             }
            },
            "type": "table"
           }
          ]
         },
         "layout": {
          "annotationdefaults": {
           "arrowcolor": "#2a3f5f",
           "arrowhead": 0,
           "arrowwidth": 1
          },
          "autotypenumbers": "strict",
          "coloraxis": {
           "colorbar": {
            "outlinewidth": 0,
            "ticks": ""
           }
          },
          "colorscale": {
           "diverging": [
            [
             0,
             "#8e0152"
            ],
            [
             0.1,
             "#c51b7d"
            ],
            [
             0.2,
             "#de77ae"
            ],
            [
             0.3,
             "#f1b6da"
            ],
            [
             0.4,
             "#fde0ef"
            ],
            [
             0.5,
             "#f7f7f7"
            ],
            [
             0.6,
             "#e6f5d0"
            ],
            [
             0.7,
             "#b8e186"
            ],
            [
             0.8,
             "#7fbc41"
            ],
            [
             0.9,
             "#4d9221"
            ],
            [
             1,
             "#276419"
            ]
           ],
           "sequential": [
            [
             0,
             "#0d0887"
            ],
            [
             0.1111111111111111,
             "#46039f"
            ],
            [
             0.2222222222222222,
             "#7201a8"
            ],
            [
             0.3333333333333333,
             "#9c179e"
            ],
            [
             0.4444444444444444,
             "#bd3786"
            ],
            [
             0.5555555555555556,
             "#d8576b"
            ],
            [
             0.6666666666666666,
             "#ed7953"
            ],
            [
             0.7777777777777778,
             "#fb9f3a"
            ],
            [
             0.8888888888888888,
             "#fdca26"
            ],
            [
             1,
             "#f0f921"
            ]
           ],
           "sequentialminus": [
            [
             0,
             "#0d0887"
            ],
            [
             0.1111111111111111,
             "#46039f"
            ],
            [
             0.2222222222222222,
             "#7201a8"
            ],
            [
             0.3333333333333333,
             "#9c179e"
            ],
            [
             0.4444444444444444,
             "#bd3786"
            ],
            [
             0.5555555555555556,
             "#d8576b"
            ],
            [
             0.6666666666666666,
             "#ed7953"
            ],
            [
             0.7777777777777778,
             "#fb9f3a"
            ],
            [
             0.8888888888888888,
             "#fdca26"
            ],
            [
             1,
             "#f0f921"
            ]
           ]
          },
          "colorway": [
           "#636efa",
           "#EF553B",
           "#00cc96",
           "#ab63fa",
           "#FFA15A",
           "#19d3f3",
           "#FF6692",
           "#B6E880",
           "#FF97FF",
           "#FECB52"
          ],
          "font": {
           "color": "#2a3f5f"
          },
          "geo": {
           "bgcolor": "white",
           "lakecolor": "white",
           "landcolor": "#E5ECF6",
           "showlakes": true,
           "showland": true,
           "subunitcolor": "white"
          },
          "hoverlabel": {
           "align": "left"
          },
          "hovermode": "closest",
          "mapbox": {
           "style": "light"
          },
          "paper_bgcolor": "white",
          "plot_bgcolor": "#E5ECF6",
          "polar": {
           "angularaxis": {
            "gridcolor": "white",
            "linecolor": "white",
            "ticks": ""
           },
           "bgcolor": "#E5ECF6",
           "radialaxis": {
            "gridcolor": "white",
            "linecolor": "white",
            "ticks": ""
           }
          },
          "scene": {
           "xaxis": {
            "backgroundcolor": "#E5ECF6",
            "gridcolor": "white",
            "gridwidth": 2,
            "linecolor": "white",
            "showbackground": true,
            "ticks": "",
            "zerolinecolor": "white"
           },
           "yaxis": {
            "backgroundcolor": "#E5ECF6",
            "gridcolor": "white",
            "gridwidth": 2,
            "linecolor": "white",
            "showbackground": true,
            "ticks": "",
            "zerolinecolor": "white"
           },
           "zaxis": {
            "backgroundcolor": "#E5ECF6",
            "gridcolor": "white",
            "gridwidth": 2,
            "linecolor": "white",
            "showbackground": true,
            "ticks": "",
            "zerolinecolor": "white"
           }
          },
          "shapedefaults": {
           "line": {
            "color": "#2a3f5f"
           }
          },
          "ternary": {
           "aaxis": {
            "gridcolor": "white",
            "linecolor": "white",
            "ticks": ""
           },
           "baxis": {
            "gridcolor": "white",
            "linecolor": "white",
            "ticks": ""
           },
           "bgcolor": "#E5ECF6",
           "caxis": {
            "gridcolor": "white",
            "linecolor": "white",
            "ticks": ""
           }
          },
          "title": {
           "x": 0.05
          },
          "xaxis": {
           "automargin": true,
           "gridcolor": "white",
           "linecolor": "white",
           "ticks": "",
           "title": {
            "standoff": 15
           },
           "zerolinecolor": "white",
           "zerolinewidth": 2
          },
          "yaxis": {
           "automargin": true,
           "gridcolor": "white",
           "linecolor": "white",
           "ticks": "",
           "title": {
            "standoff": 15
           },
           "zerolinecolor": "white",
           "zerolinewidth": 2
          }
         }
        },
        "title": {
         "text": "How many years have you been teaching for Augustin College?"
        },
        "xaxis": {
         "anchor": "y",
         "categoryorder": "category ascending",
         "domain": [
          0,
          1
         ],
         "title": {
          "text": "col9"
         }
        },
        "yaxis": {
         "anchor": "x",
         "domain": [
          0,
          1
         ],
         "title": {
          "text": "count"
         }
        }
       }
      }
     },
     "metadata": {},
     "output_type": "display_data"
    }
   ],
   "source": [
    "fig3 = px.bar(\n",
    "    df_alias,\n",
    "    x=\"col9\",\n",
    "    title=alias_map[\"col9\"], \n",
    "    color_discrete_sequence=[\"#8A100B\", \"#BC9B6A\"]  # show original column name as chart title\n",
    ")\n",
    "\n",
    "fig3.update_layout(\n",
    "    xaxis={'categoryorder': 'category ascending'}\n",
    ")\n",
    "\n",
    "fig3.show()"
   ]
  },
  {
   "cell_type": "code",
   "execution_count": 6,
   "id": "52361d0c",
   "metadata": {},
   "outputs": [
    {
     "data": {
      "application/vnd.plotly.v1+json": {
       "config": {
        "plotlyServerURL": "https://plot.ly"
       },
       "data": [
        {
         "domain": {
          "x": [
           0,
           1
          ],
          "y": [
           0,
           1
          ]
         },
         "hole": 0.4,
         "hovertemplate": "col10=%{label}<extra></extra>",
         "labels": [
          "Undergraduate Programs",
          "Graduate Programs",
          "Undergraduate Programs",
          "Undergraduate Programs,Graduate Programs",
          "Graduate Programs",
          "Graduate Programs",
          "Undergraduate Programs",
          "Undergraduate Programs",
          "Graduate Programs",
          "Graduate Programs",
          "Graduate Programs",
          "Undergraduate Programs",
          "Graduate Programs",
          "Graduate Programs",
          "Undergraduate Programs",
          "Undergraduate Programs",
          "Undergraduate Programs",
          "Undergraduate Programs",
          "Graduate Programs",
          "Undergraduate Programs",
          "Graduate Programs",
          "No Response",
          "Undergraduate Programs",
          "Undergraduate Programs",
          "Undergraduate Programs",
          "Graduate Programs",
          "Graduate Programs",
          "Graduate Programs",
          "Graduate Programs",
          "Undergraduate Programs",
          "Graduate Programs",
          "Graduate Programs",
          "Undergraduate Programs,Graduate Programs",
          "Graduate Programs",
          "Undergraduate Programs",
          "Graduate Programs",
          "Graduate Programs",
          "Graduate Programs",
          "Undergraduate Programs",
          "Undergraduate Programs",
          "Undergraduate Programs",
          "Undergraduate Programs",
          "Graduate Programs",
          "Undergraduate Programs",
          "Graduate Programs",
          "Undergraduate Programs,Graduate Programs",
          "Graduate Programs",
          "Graduate Programs",
          "Undergraduate Programs",
          "Graduate Programs",
          "Undergraduate Programs",
          "Graduate Programs",
          "Undergraduate Programs",
          "Graduate Programs",
          "Undergraduate Programs",
          "Undergraduate Programs",
          "Undergraduate Programs",
          "Graduate Programs",
          "Undergraduate Programs,Graduate Programs",
          "Graduate Programs",
          "Undergraduate Programs",
          "Graduate Programs",
          "Undergraduate Programs",
          "Graduate Programs",
          "Undergraduate Programs",
          "Undergraduate Programs",
          "Undergraduate Programs",
          "Graduate Programs",
          "Graduate Programs",
          "Undergraduate Programs",
          "Undergraduate Programs",
          "Undergraduate Programs",
          "Graduate Programs",
          "Undergraduate Programs",
          "Graduate Programs",
          "Undergraduate Programs",
          "Undergraduate Programs",
          "Undergraduate Programs",
          "Undergraduate Programs",
          "Undergraduate Programs",
          "Graduate Programs",
          "Graduate Programs",
          "Undergraduate Programs",
          "Undergraduate Programs",
          "Undergraduate Programs",
          "Graduate Programs",
          "Undergraduate Programs",
          "Undergraduate Programs",
          "Graduate Programs",
          "Undergraduate Programs",
          "Graduate Programs",
          "Graduate Programs",
          "Graduate Programs",
          "Graduate Programs",
          "Graduate Programs",
          "Undergraduate Programs",
          "Graduate Programs",
          "Undergraduate Programs",
          "Graduate Programs",
          "Graduate Programs",
          "Undergraduate Programs",
          "Undergraduate Programs,Graduate Programs",
          "Graduate Programs",
          "Graduate Programs",
          "Graduate Programs",
          "Undergraduate Programs",
          "Graduate Programs",
          "Undergraduate Programs,Graduate Programs",
          "Graduate Programs",
          "Graduate Programs",
          "Graduate Programs",
          "Graduate Programs"
         ],
         "legendgroup": "",
         "name": "",
         "showlegend": true,
         "type": "pie"
        }
       ],
       "layout": {
        "legend": {
         "tracegroupgap": 0
        },
        "piecolorway": [
         "#8A100B",
         "#BC9B6A"
        ],
        "template": {
         "data": {
          "bar": [
           {
            "error_x": {
             "color": "#2a3f5f"
            },
            "error_y": {
             "color": "#2a3f5f"
            },
            "marker": {
             "line": {
              "color": "#E5ECF6",
              "width": 0.5
             },
             "pattern": {
              "fillmode": "overlay",
              "size": 10,
              "solidity": 0.2
             }
            },
            "type": "bar"
           }
          ],
          "barpolar": [
           {
            "marker": {
             "line": {
              "color": "#E5ECF6",
              "width": 0.5
             },
             "pattern": {
              "fillmode": "overlay",
              "size": 10,
              "solidity": 0.2
             }
            },
            "type": "barpolar"
           }
          ],
          "carpet": [
           {
            "aaxis": {
             "endlinecolor": "#2a3f5f",
             "gridcolor": "white",
             "linecolor": "white",
             "minorgridcolor": "white",
             "startlinecolor": "#2a3f5f"
            },
            "baxis": {
             "endlinecolor": "#2a3f5f",
             "gridcolor": "white",
             "linecolor": "white",
             "minorgridcolor": "white",
             "startlinecolor": "#2a3f5f"
            },
            "type": "carpet"
           }
          ],
          "choropleth": [
           {
            "colorbar": {
             "outlinewidth": 0,
             "ticks": ""
            },
            "type": "choropleth"
           }
          ],
          "contour": [
           {
            "colorbar": {
             "outlinewidth": 0,
             "ticks": ""
            },
            "colorscale": [
             [
              0,
              "#0d0887"
             ],
             [
              0.1111111111111111,
              "#46039f"
             ],
             [
              0.2222222222222222,
              "#7201a8"
             ],
             [
              0.3333333333333333,
              "#9c179e"
             ],
             [
              0.4444444444444444,
              "#bd3786"
             ],
             [
              0.5555555555555556,
              "#d8576b"
             ],
             [
              0.6666666666666666,
              "#ed7953"
             ],
             [
              0.7777777777777778,
              "#fb9f3a"
             ],
             [
              0.8888888888888888,
              "#fdca26"
             ],
             [
              1,
              "#f0f921"
             ]
            ],
            "type": "contour"
           }
          ],
          "contourcarpet": [
           {
            "colorbar": {
             "outlinewidth": 0,
             "ticks": ""
            },
            "type": "contourcarpet"
           }
          ],
          "heatmap": [
           {
            "colorbar": {
             "outlinewidth": 0,
             "ticks": ""
            },
            "colorscale": [
             [
              0,
              "#0d0887"
             ],
             [
              0.1111111111111111,
              "#46039f"
             ],
             [
              0.2222222222222222,
              "#7201a8"
             ],
             [
              0.3333333333333333,
              "#9c179e"
             ],
             [
              0.4444444444444444,
              "#bd3786"
             ],
             [
              0.5555555555555556,
              "#d8576b"
             ],
             [
              0.6666666666666666,
              "#ed7953"
             ],
             [
              0.7777777777777778,
              "#fb9f3a"
             ],
             [
              0.8888888888888888,
              "#fdca26"
             ],
             [
              1,
              "#f0f921"
             ]
            ],
            "type": "heatmap"
           }
          ],
          "heatmapgl": [
           {
            "colorbar": {
             "outlinewidth": 0,
             "ticks": ""
            },
            "colorscale": [
             [
              0,
              "#0d0887"
             ],
             [
              0.1111111111111111,
              "#46039f"
             ],
             [
              0.2222222222222222,
              "#7201a8"
             ],
             [
              0.3333333333333333,
              "#9c179e"
             ],
             [
              0.4444444444444444,
              "#bd3786"
             ],
             [
              0.5555555555555556,
              "#d8576b"
             ],
             [
              0.6666666666666666,
              "#ed7953"
             ],
             [
              0.7777777777777778,
              "#fb9f3a"
             ],
             [
              0.8888888888888888,
              "#fdca26"
             ],
             [
              1,
              "#f0f921"
             ]
            ],
            "type": "heatmapgl"
           }
          ],
          "histogram": [
           {
            "marker": {
             "pattern": {
              "fillmode": "overlay",
              "size": 10,
              "solidity": 0.2
             }
            },
            "type": "histogram"
           }
          ],
          "histogram2d": [
           {
            "colorbar": {
             "outlinewidth": 0,
             "ticks": ""
            },
            "colorscale": [
             [
              0,
              "#0d0887"
             ],
             [
              0.1111111111111111,
              "#46039f"
             ],
             [
              0.2222222222222222,
              "#7201a8"
             ],
             [
              0.3333333333333333,
              "#9c179e"
             ],
             [
              0.4444444444444444,
              "#bd3786"
             ],
             [
              0.5555555555555556,
              "#d8576b"
             ],
             [
              0.6666666666666666,
              "#ed7953"
             ],
             [
              0.7777777777777778,
              "#fb9f3a"
             ],
             [
              0.8888888888888888,
              "#fdca26"
             ],
             [
              1,
              "#f0f921"
             ]
            ],
            "type": "histogram2d"
           }
          ],
          "histogram2dcontour": [
           {
            "colorbar": {
             "outlinewidth": 0,
             "ticks": ""
            },
            "colorscale": [
             [
              0,
              "#0d0887"
             ],
             [
              0.1111111111111111,
              "#46039f"
             ],
             [
              0.2222222222222222,
              "#7201a8"
             ],
             [
              0.3333333333333333,
              "#9c179e"
             ],
             [
              0.4444444444444444,
              "#bd3786"
             ],
             [
              0.5555555555555556,
              "#d8576b"
             ],
             [
              0.6666666666666666,
              "#ed7953"
             ],
             [
              0.7777777777777778,
              "#fb9f3a"
             ],
             [
              0.8888888888888888,
              "#fdca26"
             ],
             [
              1,
              "#f0f921"
             ]
            ],
            "type": "histogram2dcontour"
           }
          ],
          "mesh3d": [
           {
            "colorbar": {
             "outlinewidth": 0,
             "ticks": ""
            },
            "type": "mesh3d"
           }
          ],
          "parcoords": [
           {
            "line": {
             "colorbar": {
              "outlinewidth": 0,
              "ticks": ""
             }
            },
            "type": "parcoords"
           }
          ],
          "pie": [
           {
            "automargin": true,
            "type": "pie"
           }
          ],
          "scatter": [
           {
            "fillpattern": {
             "fillmode": "overlay",
             "size": 10,
             "solidity": 0.2
            },
            "type": "scatter"
           }
          ],
          "scatter3d": [
           {
            "line": {
             "colorbar": {
              "outlinewidth": 0,
              "ticks": ""
             }
            },
            "marker": {
             "colorbar": {
              "outlinewidth": 0,
              "ticks": ""
             }
            },
            "type": "scatter3d"
           }
          ],
          "scattercarpet": [
           {
            "marker": {
             "colorbar": {
              "outlinewidth": 0,
              "ticks": ""
             }
            },
            "type": "scattercarpet"
           }
          ],
          "scattergeo": [
           {
            "marker": {
             "colorbar": {
              "outlinewidth": 0,
              "ticks": ""
             }
            },
            "type": "scattergeo"
           }
          ],
          "scattergl": [
           {
            "marker": {
             "colorbar": {
              "outlinewidth": 0,
              "ticks": ""
             }
            },
            "type": "scattergl"
           }
          ],
          "scattermapbox": [
           {
            "marker": {
             "colorbar": {
              "outlinewidth": 0,
              "ticks": ""
             }
            },
            "type": "scattermapbox"
           }
          ],
          "scatterpolar": [
           {
            "marker": {
             "colorbar": {
              "outlinewidth": 0,
              "ticks": ""
             }
            },
            "type": "scatterpolar"
           }
          ],
          "scatterpolargl": [
           {
            "marker": {
             "colorbar": {
              "outlinewidth": 0,
              "ticks": ""
             }
            },
            "type": "scatterpolargl"
           }
          ],
          "scatterternary": [
           {
            "marker": {
             "colorbar": {
              "outlinewidth": 0,
              "ticks": ""
             }
            },
            "type": "scatterternary"
           }
          ],
          "surface": [
           {
            "colorbar": {
             "outlinewidth": 0,
             "ticks": ""
            },
            "colorscale": [
             [
              0,
              "#0d0887"
             ],
             [
              0.1111111111111111,
              "#46039f"
             ],
             [
              0.2222222222222222,
              "#7201a8"
             ],
             [
              0.3333333333333333,
              "#9c179e"
             ],
             [
              0.4444444444444444,
              "#bd3786"
             ],
             [
              0.5555555555555556,
              "#d8576b"
             ],
             [
              0.6666666666666666,
              "#ed7953"
             ],
             [
              0.7777777777777778,
              "#fb9f3a"
             ],
             [
              0.8888888888888888,
              "#fdca26"
             ],
             [
              1,
              "#f0f921"
             ]
            ],
            "type": "surface"
           }
          ],
          "table": [
           {
            "cells": {
             "fill": {
              "color": "#EBF0F8"
             },
             "line": {
              "color": "white"
             }
            },
            "header": {
             "fill": {
              "color": "#C8D4E3"
             },
             "line": {
              "color": "white"
             }
            },
            "type": "table"
           }
          ]
         },
         "layout": {
          "annotationdefaults": {
           "arrowcolor": "#2a3f5f",
           "arrowhead": 0,
           "arrowwidth": 1
          },
          "autotypenumbers": "strict",
          "coloraxis": {
           "colorbar": {
            "outlinewidth": 0,
            "ticks": ""
           }
          },
          "colorscale": {
           "diverging": [
            [
             0,
             "#8e0152"
            ],
            [
             0.1,
             "#c51b7d"
            ],
            [
             0.2,
             "#de77ae"
            ],
            [
             0.3,
             "#f1b6da"
            ],
            [
             0.4,
             "#fde0ef"
            ],
            [
             0.5,
             "#f7f7f7"
            ],
            [
             0.6,
             "#e6f5d0"
            ],
            [
             0.7,
             "#b8e186"
            ],
            [
             0.8,
             "#7fbc41"
            ],
            [
             0.9,
             "#4d9221"
            ],
            [
             1,
             "#276419"
            ]
           ],
           "sequential": [
            [
             0,
             "#0d0887"
            ],
            [
             0.1111111111111111,
             "#46039f"
            ],
            [
             0.2222222222222222,
             "#7201a8"
            ],
            [
             0.3333333333333333,
             "#9c179e"
            ],
            [
             0.4444444444444444,
             "#bd3786"
            ],
            [
             0.5555555555555556,
             "#d8576b"
            ],
            [
             0.6666666666666666,
             "#ed7953"
            ],
            [
             0.7777777777777778,
             "#fb9f3a"
            ],
            [
             0.8888888888888888,
             "#fdca26"
            ],
            [
             1,
             "#f0f921"
            ]
           ],
           "sequentialminus": [
            [
             0,
             "#0d0887"
            ],
            [
             0.1111111111111111,
             "#46039f"
            ],
            [
             0.2222222222222222,
             "#7201a8"
            ],
            [
             0.3333333333333333,
             "#9c179e"
            ],
            [
             0.4444444444444444,
             "#bd3786"
            ],
            [
             0.5555555555555556,
             "#d8576b"
            ],
            [
             0.6666666666666666,
             "#ed7953"
            ],
            [
             0.7777777777777778,
             "#fb9f3a"
            ],
            [
             0.8888888888888888,
             "#fdca26"
            ],
            [
             1,
             "#f0f921"
            ]
           ]
          },
          "colorway": [
           "#636efa",
           "#EF553B",
           "#00cc96",
           "#ab63fa",
           "#FFA15A",
           "#19d3f3",
           "#FF6692",
           "#B6E880",
           "#FF97FF",
           "#FECB52"
          ],
          "font": {
           "color": "#2a3f5f"
          },
          "geo": {
           "bgcolor": "white",
           "lakecolor": "white",
           "landcolor": "#E5ECF6",
           "showlakes": true,
           "showland": true,
           "subunitcolor": "white"
          },
          "hoverlabel": {
           "align": "left"
          },
          "hovermode": "closest",
          "mapbox": {
           "style": "light"
          },
          "paper_bgcolor": "white",
          "plot_bgcolor": "#E5ECF6",
          "polar": {
           "angularaxis": {
            "gridcolor": "white",
            "linecolor": "white",
            "ticks": ""
           },
           "bgcolor": "#E5ECF6",
           "radialaxis": {
            "gridcolor": "white",
            "linecolor": "white",
            "ticks": ""
           }
          },
          "scene": {
           "xaxis": {
            "backgroundcolor": "#E5ECF6",
            "gridcolor": "white",
            "gridwidth": 2,
            "linecolor": "white",
            "showbackground": true,
            "ticks": "",
            "zerolinecolor": "white"
           },
           "yaxis": {
            "backgroundcolor": "#E5ECF6",
            "gridcolor": "white",
            "gridwidth": 2,
            "linecolor": "white",
            "showbackground": true,
            "ticks": "",
            "zerolinecolor": "white"
           },
           "zaxis": {
            "backgroundcolor": "#E5ECF6",
            "gridcolor": "white",
            "gridwidth": 2,
            "linecolor": "white",
            "showbackground": true,
            "ticks": "",
            "zerolinecolor": "white"
           }
          },
          "shapedefaults": {
           "line": {
            "color": "#2a3f5f"
           }
          },
          "ternary": {
           "aaxis": {
            "gridcolor": "white",
            "linecolor": "white",
            "ticks": ""
           },
           "baxis": {
            "gridcolor": "white",
            "linecolor": "white",
            "ticks": ""
           },
           "bgcolor": "#E5ECF6",
           "caxis": {
            "gridcolor": "white",
            "linecolor": "white",
            "ticks": ""
           }
          },
          "title": {
           "x": 0.05
          },
          "xaxis": {
           "automargin": true,
           "gridcolor": "white",
           "linecolor": "white",
           "ticks": "",
           "title": {
            "standoff": 15
           },
           "zerolinecolor": "white",
           "zerolinewidth": 2
          },
          "yaxis": {
           "automargin": true,
           "gridcolor": "white",
           "linecolor": "white",
           "ticks": "",
           "title": {
            "standoff": 15
           },
           "zerolinecolor": "white",
           "zerolinewidth": 2
          }
         }
        },
        "title": {
         "text": "What Augustin College programs do you teach in?"
        }
       }
      }
     },
     "metadata": {},
     "output_type": "display_data"
    }
   ],
   "source": [
    "fig4 = px.pie(\n",
    "    df_alias,\n",
    "    names=\"col10\",\n",
    "    hole=0.4,\n",
    "    title=alias_map[\"col10\"],\n",
    "    color_discrete_sequence=[\"#8A100B\", \"#BC9B6A\"]\n",
    ")\n",
    "\n",
    "fig4.show()"
   ]
  },
  {
   "cell_type": "markdown",
   "id": "b9737efc",
   "metadata": {},
   "source": [
    "## Survey Results"
   ]
  },
  {
   "cell_type": "code",
   "execution_count": 7,
   "id": "0024e9f6",
   "metadata": {},
   "outputs": [],
   "source": [
    "importance_map = {\n",
    "    \"extremely important\": 1,\n",
    "    \"very important\": 2,\n",
    "    \"moderately important\": 3,\n",
    "    \"slightly important\": 4,\n",
    "    \"not at all important\": 5,\n",
    "    \"no response\": np.nan   # treat \"No Response\" as missing\n",
    "}"
   ]
  },
  {
   "cell_type": "code",
   "execution_count": 8,
   "id": "19d4d12d",
   "metadata": {},
   "outputs": [
    {
     "name": "stderr",
     "output_type": "stream",
     "text": [
      "/var/folders/bj/bctg9sf9731d8nt80_gfnqxm0000gn/T/ipykernel_40689/3599180202.py:13: FutureWarning:\n",
      "\n",
      "Downcasting behavior in `replace` is deprecated and will be removed in a future version. To retain the old behavior, explicitly call `result.infer_objects(copy=False)`. To opt-in to the future behavior, set `pd.set_option('future.no_silent_downcasting', True)`\n",
      "\n"
     ]
    }
   ],
   "source": [
    "df_mapped = df_alias.copy()\n",
    "\n",
    "part1 = [f\"col{i}\" for i in range(13, 62)]\n",
    "part2 = [f\"col{i}\" for i in range(63, 95)]\n",
    "part3 = [f\"col{i}\" for i in range(96, 105)]\n",
    "\n",
    "text_cols = part1 + part2 + part3\n",
    "\n",
    "df_mapped[text_cols] = df_mapped[text_cols].map(\n",
    "    lambda x: x.strip().lower() if isinstance(x, str) else x\n",
    ")\n",
    "\n",
    "df_mapped[text_cols] = df_mapped[text_cols].replace(importance_map)\n",
    "\n",
    "df_mapped[text_cols] = df_mapped[text_cols].apply(pd.to_numeric, errors=\"coerce\")"
   ]
  },
  {
   "cell_type": "code",
   "execution_count": 9,
   "id": "1e4d257d",
   "metadata": {},
   "outputs": [],
   "source": [
    "# Column-wise sums (ignores NaN)\n",
    "col_sums = df_mapped[text_cols].sum()\n",
    "\n",
    "# Dictionary of column → sum\n",
    "col_sum_dict = col_sums.to_dict()"
   ]
  },
  {
   "cell_type": "code",
   "execution_count": 10,
   "id": "907c488c",
   "metadata": {},
   "outputs": [
    {
     "name": "stdout",
     "output_type": "stream",
     "text": [
      "col71: 146.0\n",
      "col87: 151.0\n",
      "col100: 151.0\n",
      "col58: 153.0\n",
      "col57: 155.0\n",
      "col28: 161.0\n",
      "col61: 165.0\n",
      "col38: 167.0\n",
      "col13: 168.0\n",
      "col93: 168.0\n",
      "col104: 168.0\n",
      "col94: 169.0\n",
      "col98: 169.0\n",
      "col89: 170.0\n",
      "col75: 171.0\n",
      "col19: 172.0\n",
      "col86: 172.0\n",
      "col14: 174.0\n",
      "col20: 174.0\n",
      "col52: 174.0\n",
      "col97: 175.0\n",
      "col46: 176.0\n",
      "col54: 176.0\n",
      "col15: 177.0\n",
      "col88: 177.0\n",
      "col77: 180.0\n",
      "col76: 181.0\n",
      "col59: 182.0\n",
      "col101: 182.0\n",
      "col43: 184.0\n",
      "col34: 185.0\n",
      "col60: 186.0\n",
      "col92: 187.0\n",
      "col69: 190.0\n",
      "col91: 190.0\n",
      "col68: 195.0\n",
      "col17: 197.0\n",
      "col90: 197.0\n",
      "col103: 197.0\n",
      "col99: 198.0\n",
      "col32: 199.0\n",
      "col45: 199.0\n",
      "col84: 199.0\n",
      "col102: 199.0\n",
      "col39: 201.0\n",
      "col41: 205.0\n",
      "col67: 205.0\n",
      "col72: 205.0\n",
      "col56: 207.0\n",
      "col79: 208.0\n",
      "col55: 215.0\n",
      "col74: 216.0\n",
      "col33: 219.0\n",
      "col80: 219.0\n",
      "col96: 219.0\n",
      "col21: 222.0\n",
      "col85: 222.0\n",
      "col63: 223.0\n",
      "col50: 225.0\n",
      "col16: 226.0\n",
      "col35: 233.0\n",
      "col82: 233.0\n",
      "col37: 235.0\n",
      "col83: 235.0\n",
      "col47: 236.0\n",
      "col81: 242.0\n",
      "col18: 244.0\n",
      "col29: 244.0\n",
      "col44: 250.0\n",
      "col40: 253.0\n",
      "col64: 255.0\n",
      "col36: 257.0\n",
      "col53: 257.0\n",
      "col48: 264.0\n",
      "col30: 265.0\n",
      "col65: 275.0\n",
      "col78: 277.0\n",
      "col42: 282.0\n",
      "col49: 282.0\n",
      "col66: 297.0\n",
      "col70: 297.0\n",
      "col31: 300.0\n",
      "col22: 316.0\n",
      "col73: 318.0\n",
      "col51: 339.0\n",
      "col24: 390.0\n",
      "col25: 433.0\n",
      "col26: 467.0\n",
      "col23: 492.0\n",
      "col27: 620.0\n"
     ]
    }
   ],
   "source": [
    "sorted_totals = dict(sorted(col_sum_dict.items(), key=lambda x: x[1]))\n",
    "\n",
    "for col, total in sorted_totals.items():\n",
    "    print(f\"{col}: {total}\")\n"
   ]
  },
  {
   "cell_type": "code",
   "execution_count": 11,
   "id": "28e3ad6f",
   "metadata": {},
   "outputs": [],
   "source": [
    "topic_map = {}\n",
    "for alias, original in alias_map.items():\n",
    "    if \" - \" in original:\n",
    "        topic_map[alias] = original.split(\" - \", 1)[1]  # take part after dash\n",
    "    else:\n",
    "        topic_map[alias] = original  # fallback: just use full text\n",
    "\n",
    "\n"
   ]
  },
  {
   "cell_type": "code",
   "execution_count": 12,
   "id": "19dc7bb0",
   "metadata": {},
   "outputs": [
    {
     "name": "stdout",
     "output_type": "stream",
     "text": [
      "col71 | Career Center | 146.0\n",
      "col87 | Opportunities for career networking | 151.0\n",
      "col100 | Focusing on real-world impact and professional advancement | 151.0\n",
      "col58 | Strong support systems | 153.0\n",
      "col57 | High academic standards | 155.0\n",
      "col28 | Veritus Imperial University's overall academic reputation | 161.0\n",
      "col61 | Clear and timely feedback | 165.0\n",
      "col38 | Online asynchronous learning opportunities (flexible, self-paced online classes) | 167.0\n",
      "col13 | Flexible learning Options (e.g., online, evening, hybrid) | 168.0\n",
      "col93 | Networking | 168.0\n",
      "col104 | Aligning with the evolving challenges and opportunities of the future workforce | 168.0\n",
      "col94 | Clearer alignment between academic programs and professional goals | 169.0\n",
      "col98 | Preparing students to be ethical leaders in a complex world | 169.0\n",
      "col89 | Career advising | 170.0\n",
      "col75 | Financial Aid | 171.0\n",
      "col19 | Strong Veritus Imperial University reputation and alumni network | 172.0\n",
      "col86 | Expanded personalized career guidance tailored to student goals | 172.0\n",
      "col14 | Career-focused programs aligned with workforce needs | 174.0\n",
      "col20 | Strong faculty with industry experience | 174.0\n",
      "col52 | Career-focused courses aligned with industry needs (action research project & internships) | 174.0\n",
      "col97 | Expanding flexible pathways for adult and nontraditional learners | 175.0\n",
      "col46 | Ease of access to university technology systems | 176.0\n",
      "col54 | Courses in high-demand fields (eg., technology, public health, business ethics) | 176.0\n",
      "col15 | Competitive tuition and robust financial aid support | 177.0\n",
      "col88 | Internal/External Career Mentoring | 177.0\n",
      "col77 | Veritus Imperial University Libraries | 180.0\n",
      "col76 | IT Help Desk | 181.0\n",
      "col59 | Advanced, challenge-based assignments | 182.0\n",
      "col101 | Supporting lifelong learning and career reinvention | 182.0\n",
      "col43 | Access for students with disabilities | 184.0\n",
      "col34 | Courses that develop leadership and communication skills | 185.0\n",
      "col60 | Transparent grading | 186.0\n",
      "col92 | Enhanced career preparation through internships | 187.0\n",
      "col69 | Stronger collaboration between Augustin College and other Veritus Imperial University departments | 190.0\n",
      "col91 | Opportunities for personal skill development | 190.0\n",
      "col68 | Closer integration of Veritus Imperial University services into the Augustin College student experience | 195.0\n",
      "col17 | Personalized support and a student-centered community | 197.0\n",
      "col90 | Opportunities to develop leadership skills | 197.0\n",
      "col103 | Developing student's ability to lead, serve, and transform society | 197.0\n",
      "col99 | Promoting diversity, inclusion, and equity across the student experience | 198.0\n",
      "col32 | Small class sizes and individualized attention | 199.0\n",
      "col45 | Clear and simple process for requesting academic accommodations | 199.0\n",
      "col84 | Increased outreach from advising | 199.0\n",
      "col102 | Fostering a strong sense of community and personal connection | 199.0\n",
      "col39 | Access to a faculty mentor outside of class | 201.0\n",
      "col41 | Faculty support for career and professional development | 205.0\n",
      "col67 | Better visibility and accessibility of university services (e.g., Career Center, Library) | 205.0\n",
      "col72 | The Tutoring and Exam Center | 205.0\n",
      "col56 | Active engagement in the classroom/Zoom class meetings | 207.0\n",
      "col79 | Veteran Support | 208.0\n",
      "col55 | Flexibility to take courses across other Veritus Imperial University programs | 215.0\n",
      "col74 | Veritus Imperial University Accessibility Services | 216.0\n",
      "col33 | Experiential learning opportunities (e.g., internships, client projects) | 219.0\n",
      "col80 |  Student Wellness Center | 219.0\n",
      "col96 | Upholding values such as service, justice, and reflection | 219.0\n",
      "col21 | Working professionals seeking to advance in their current field | 222.0\n",
      "col85 | More streamlined and timely communication from Augustin College offices | 222.0\n",
      "col63 | More events and opportunities that foster a sense of community | 223.0\n",
      "col50 | Increased opportunities to connect online and in-person students | 225.0\n",
      "col16 | Mission-driven education rooted in purpose and service | 226.0\n",
      "col35 | In-person learning opportunities | 233.0\n",
      "col82 | Graduate Student Life Office | 233.0\n",
      "col37 | Online synchronous learning opportunities (live online classes) | 235.0\n",
      "col83 | International Students Office | 235.0\n",
      "col47 | Events that bring students and faculty together (e.g. speaker series, brown bag lunches, etc.) | 236.0\n",
      "col81 | Undergrad Student Life Office | 242.0\n",
      "col18 | Accelerated or modular degree completion pathways | 244.0\n",
      "col29 | Augustin College's unique identity and reputation | 244.0\n",
      "col44 | Faculty trained in universal course design | 250.0\n",
      "col40 | Structured mentorship programs | 253.0\n",
      "col64 | Additional leadership and volunteer opportunities within Augustin College | 255.0\n",
      "col36 | Daytime course offerings | 257.0\n",
      "col53 | Research-focused courses aligned with industry trends | 257.0\n",
      "col48 | Peer mentoring | 264.0\n",
      "col30 | Reputation and credibility of individual programs | 265.0\n",
      "col65 | More spaces (common areas for eating or studying) to support personal development beyond coursework | 275.0\n",
      "col78 |  Gym & Recreation Center | 277.0\n",
      "col42 | Access to faculty research opportunities outside of class | 282.0\n",
      "col49 | Study groups | 282.0\n",
      "col66 | More community service opportunties | 297.0\n",
      "col70 |  Faith Ministry | 297.0\n",
      "col31 | Academic rigor and challenge of the curriculum | 300.0\n",
      "col22 | Adult learners returning to college after time away | 316.0\n",
      "col73 | Dining Hall | 318.0\n",
      "col51 | On campus housing options | 339.0\n",
      "col24 | Career changers pursuing graduate credentials | 390.0\n",
      "col25 | First-generation college students | 433.0\n",
      "col26 | Students from underrepresented or historically marginalized backgrounds | 467.0\n",
      "col23 | Recent high school graduates looking for flexible pathways | 492.0\n",
      "col27 | International students | 620.0\n"
     ]
    }
   ],
   "source": [
    "sorted_totals = dict(sorted(col_sum_dict.items(), key=lambda x: x[1]))\n",
    "\n",
    "for col, total in sorted_totals.items():\n",
    "    topic = topic_map.get(col, \"\")\n",
    "    print(f\"{col} | {topic} | {total}\")"
   ]
  },
  {
   "cell_type": "code",
   "execution_count": 13,
   "id": "0f0d6a9e",
   "metadata": {},
   "outputs": [
    {
     "name": "stdout",
     "output_type": "stream",
     "text": [
      "✅ Exported results_faculty.csv\n"
     ]
    }
   ],
   "source": [
    "# Build DataFrame from sorted totals\n",
    "results_faculty = pd.DataFrame([\n",
    "    {\n",
    "        \"alias\": col,\n",
    "        \"topic\": topic_map.get(col, \"\"),\n",
    "        \"total_score\": total\n",
    "    }\n",
    "    for col, total in sorted(col_sum_dict.items(), key=lambda x: x[1])\n",
    "])\n",
    "\n",
    "# Save to CSV\n",
    "results_faculty.to_csv(\"results_faculty.csv\", index=False)\n",
    "\n",
    "print(\"✅ Exported results_faculty.csv\")"
   ]
  }
 ],
 "metadata": {
  "kernelspec": {
   "display_name": "base",
   "language": "python",
   "name": "python3"
  },
  "language_info": {
   "codemirror_mode": {
    "name": "ipython",
    "version": 3
   },
   "file_extension": ".py",
   "mimetype": "text/x-python",
   "name": "python",
   "nbconvert_exporter": "python",
   "pygments_lexer": "ipython3",
   "version": "3.13.5"
  }
 },
 "nbformat": 4,
 "nbformat_minor": 5
}
