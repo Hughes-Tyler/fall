{
 "cells": [
  {
   "cell_type": "markdown",
   "id": "c97bd9ab",
   "metadata": {},
   "source": [
    "# Faculty Survey"
   ]
  },
  {
   "cell_type": "code",
   "execution_count": null,
   "id": "ce5429bc",
   "metadata": {},
   "outputs": [],
   "source": [
    "import pandas as pd \n",
    "import numpy as np\n",
    "import matplotlib.pyplot as plt\n",
    "import plotly.express as px\n",
    "import seaborn as sns"
   ]
  },
  {
   "cell_type": "code",
   "execution_count": null,
   "id": "365349f7",
   "metadata": {},
   "outputs": [],
   "source": [
    "df = pd.read_csv(\"faculty_survey_anonymized.csv\")\n",
    "\n",
    "alias_map = {f\"col{i}\": col for i, col in enumerate(df.columns, start=1)}\n",
    "reverse_map = {v: k for k, v in alias_map.items()}\n",
    "\n",
    "df_alias = df.rename(columns=reverse_map)\n",
    "\n",
    "print(\"Alias to Original Header Mapping:\")\n",
    "for alias, original in alias_map.items():\n",
    "    print(f\"{alias}: {original}\")\n",
    "\n",
    "df_alias = df_alias.fillna(\"No Response\")"
   ]
  },
  {
   "cell_type": "markdown",
   "id": "333ed315",
   "metadata": {},
   "source": [
    "## Demographics"
   ]
  },
  {
   "cell_type": "code",
   "execution_count": null,
   "id": "507a4bf2",
   "metadata": {},
   "outputs": [],
   "source": [
    "fig1 = px.pie(df_alias, names = \"col7\", title=alias_map[\"col7\"], color_discrete_sequence=[\"#8A100B\", \"#B29d6c\"]\n",
    ")\n",
    "\n",
    "fig1.show()"
   ]
  },
  {
   "cell_type": "code",
   "execution_count": null,
   "id": "094b24cc",
   "metadata": {},
   "outputs": [],
   "source": [
    "fig2 = px.pie(df_alias, names = \"col8\", title=alias_map[\"col8\"],color_discrete_sequence=[\"#8A100B\", \"#B29d6c\"]\n",
    ")\n",
    "\n",
    "fig2.show()"
   ]
  },
  {
   "cell_type": "code",
   "execution_count": null,
   "id": "bef193db",
   "metadata": {},
   "outputs": [],
   "source": [
    "fig3 = px.bar(\n",
    "    df_alias,\n",
    "    x=\"col9\",\n",
    "    title=alias_map[\"col9\"], \n",
    "    color_discrete_sequence=[\"#8A100B\", \"#B29d6c\"]  # show original column name as chart title\n",
    ")\n",
    "\n",
    "fig3.update_layout(\n",
    "    xaxis={'categoryorder': 'category ascending'}\n",
    ")\n",
    "\n",
    "fig3.show()"
   ]
  },
  {
   "cell_type": "code",
   "execution_count": null,
   "id": "52361d0c",
   "metadata": {},
   "outputs": [],
   "source": [
    "fig4 = px.pie(\n",
    "    df_alias,\n",
    "    names=\"col10\",\n",
    "    hole=0.4,\n",
    "    title=alias_map[\"col10\"],\n",
    "    color_discrete_sequence=[\"#8A100B\", \"#B29d6c\"]\n",
    ")\n",
    "\n",
    "fig4.show()"
   ]
  },
  {
   "cell_type": "markdown",
   "id": "b9737efc",
   "metadata": {},
   "source": [
    "## Survey Results"
   ]
  },
  {
   "cell_type": "code",
   "execution_count": null,
   "id": "0024e9f6",
   "metadata": {},
   "outputs": [],
   "source": [
    "importance_map = {\n",
    "    \"extremely important\": 1,\n",
    "    \"very important\": 2,\n",
    "    \"moderately important\": 3,\n",
    "    \"slightly important\": 4,\n",
    "    \"not at all important\": 5,\n",
    "    \"no response\": np.nan   # treat \"No Response\" as missing\n",
    "}"
   ]
  },
  {
   "cell_type": "code",
   "execution_count": null,
   "id": "19d4d12d",
   "metadata": {},
   "outputs": [],
   "source": [
    "df_mapped = df_alias.copy()\n",
    "\n",
    "part1 = [f\"col{i}\" for i in range(13, 62)]\n",
    "part2 = [f\"col{i}\" for i in range(63, 95)]\n",
    "part3 = [f\"col{i}\" for i in range(96, 105)]\n",
    "\n",
    "text_cols = part1 + part2 + part3\n",
    "\n",
    "df_mapped[text_cols] = df_mapped[text_cols].map(\n",
    "    lambda x: x.strip().lower() if isinstance(x, str) else x\n",
    ")\n",
    "\n",
    "df_mapped[text_cols] = df_mapped[text_cols].replace(importance_map)\n",
    "\n",
    "df_mapped[text_cols] = df_mapped[text_cols].apply(pd.to_numeric, errors=\"coerce\")"
   ]
  },
  {
   "cell_type": "code",
   "execution_count": null,
   "id": "1e4d257d",
   "metadata": {},
   "outputs": [],
   "source": [
    "# Column-wise sums (ignores NaN)\n",
    "col_sums = df_mapped[text_cols].sum()\n",
    "\n",
    "# Dictionary of column → sum\n",
    "col_sum_dict = col_sums.to_dict()"
   ]
  },
  {
   "cell_type": "code",
   "execution_count": null,
   "id": "907c488c",
   "metadata": {},
   "outputs": [],
   "source": [
    "sorted_totals = dict(sorted(col_sum_dict.items(), key=lambda x: x[1]))\n",
    "\n",
    "for col, total in sorted_totals.items():\n",
    "    print(f\"{col}: {total}\")\n"
   ]
  },
  {
   "cell_type": "code",
   "execution_count": null,
   "id": "28e3ad6f",
   "metadata": {},
   "outputs": [],
   "source": [
    "topic_map = {}\n",
    "for alias, original in alias_map.items():\n",
    "    if \" - \" in original:\n",
    "        topic_map[alias] = original.split(\" - \", 1)[1]  # take part after dash\n",
    "    else:\n",
    "        topic_map[alias] = original  # fallback: just use full text\n",
    "\n",
    "\n"
   ]
  },
  {
   "cell_type": "code",
   "execution_count": null,
   "id": "19dc7bb0",
   "metadata": {},
   "outputs": [],
   "source": [
    "sorted_totals = dict(sorted(col_sum_dict.items(), key=lambda x: x[1]))\n",
    "\n",
    "for col, total in sorted_totals.items():\n",
    "    topic = topic_map.get(col, \"\")\n",
    "    print(f\"{col} | {topic} | {total}\")"
   ]
  },
  {
   "cell_type": "code",
   "execution_count": null,
   "id": "0f0d6a9e",
   "metadata": {},
   "outputs": [],
   "source": [
    "# Build DataFrame from sorted totals\n",
    "results_faculty = pd.DataFrame([\n",
    "    {\n",
    "        \"alias\": col,\n",
    "        \"topic\": topic_map.get(col, \"\"),\n",
    "        \"total_score\": total\n",
    "    }\n",
    "    for col, total in sorted(col_sum_dict.items(), key=lambda x: x[1])\n",
    "])\n",
    "\n",
    "# Save to CSV\n",
    "results_faculty.to_csv(\"results_faculty.csv\", index=False)\n",
    "\n",
    "print(\"✅ Exported results_faculty.csv\")"
   ]
  }
 ],
 "metadata": {
  "kernelspec": {
   "display_name": "Python 3",
   "language": "python",
   "name": "python3"
  },
  "language_info": {
   "codemirror_mode": {
    "name": "ipython",
    "version": 3
   },
   "file_extension": ".py",
   "mimetype": "text/x-python",
   "name": "python",
   "nbconvert_exporter": "python",
   "pygments_lexer": "ipython3",
   "version": "3.13.1"
  }
 },
 "nbformat": 4,
 "nbformat_minor": 5
}
