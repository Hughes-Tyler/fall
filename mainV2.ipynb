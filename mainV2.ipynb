{
 "cells": [
  {
   "cell_type": "markdown",
   "id": "75f9e7b8",
   "metadata": {},
   "source": [
    "# Staff Survey Analysis"
   ]
  },
  {
   "cell_type": "code",
   "execution_count": 1,
   "id": "462c8aa2",
   "metadata": {},
   "outputs": [
    {
     "name": "stdout",
     "output_type": "stream",
     "text": [
      "Analyzing survey with 20 total respondents...\n",
      "\n",
      "Creating formatted Excel file...\n",
      "✓ Added 78 importance questions\n",
      "✓ Added 11 ranking questions\n",
      "✓ Added 5 open-ended questions\n",
      "\n",
      "================================================================================\n",
      "✓ ANALYSIS COMPLETE - Saved to 'survey_analysis_summary.xlsx'\n",
      "================================================================================\n",
      "\n",
      "Summary:\n",
      "  Total respondents: 20\n",
      "  Importance questions: 78\n",
      "  Ranking questions: 11\n",
      "  Open-ended questions: 5\n",
      "\n",
      "Open the Excel file to see the beautifully formatted results! 📊\n"
     ]
    }
   ],
   "source": [
    "import pandas as pd\n",
    "from collections import Counter\n",
    "import openpyxl\n",
    "from openpyxl.styles import Font, PatternFill, Alignment, Border, Side\n",
    "from openpyxl.utils import get_column_letter\n",
    "\n",
    "# Read the CSV file\n",
    "df = pd.read_csv('staff_survey.csv')\n",
    "\n",
    "# Remove metadata columns (first 6 columns)\n",
    "metadata_cols = ['Start Date', 'End Date', 'Progress', 'Duration (in seconds)', 'Finished', 'Recorded Date']\n",
    "survey_df = df.drop(columns=metadata_cols)\n",
    "\n",
    "# Total number of possible responses (all rows)\n",
    "total_possible = len(survey_df)\n",
    "\n",
    "# Store results for sorting\n",
    "importance_questions = []\n",
    "ranking_questions = []\n",
    "open_ended_questions = []\n",
    "\n",
    "# Define the order for importance levels\n",
    "importance_order = ['Extremely important', 'Very important', 'Moderately Important', \n",
    "                   'Moderately important', 'Slightly important', 'Not Important', 'Not at all important']\n",
    "\n",
    "print(f\"Analyzing survey with {total_possible} total respondents...\")\n",
    "\n",
    "# Analyze each question\n",
    "for col in survey_df.columns:\n",
    "    responses = survey_df[col]\n",
    "    responses_not_null = responses.dropna()\n",
    "    null_count = total_possible - len(responses_not_null)\n",
    "    \n",
    "    if len(responses_not_null) == 0:\n",
    "        continue\n",
    "    \n",
    "    counts = Counter(responses_not_null)\n",
    "    \n",
    "    # Check if it's an importance question\n",
    "    if any(imp in counts for imp in importance_order):\n",
    "        result = {\n",
    "            'Question': col,\n",
    "            'Total Responses': len(responses_not_null),\n",
    "            'No Response': null_count,\n",
    "            'Response Rate %': round((len(responses_not_null) / total_possible) * 100, 1)\n",
    "        }\n",
    "        \n",
    "        # Add counts and percentages for each importance level\n",
    "        for level in importance_order:\n",
    "            count = counts.get(level, 0)\n",
    "            pct = (count / len(responses_not_null)) * 100 if len(responses_not_null) > 0 else 0\n",
    "            result[f'{level}'] = f\"{count} ({pct:.1f}%)\"\n",
    "        \n",
    "        importance_questions.append(result)\n",
    "    \n",
    "    # Check if it's a ranking question (1-7)\n",
    "    elif all(isinstance(r, (int, float)) for r in responses_not_null if pd.notna(r)):\n",
    "        result = {\n",
    "            'Question': col,\n",
    "            'Total Responses': len(responses_not_null),\n",
    "            'No Response': null_count,\n",
    "            'Response Rate %': round((len(responses_not_null) / total_possible) * 100, 1)\n",
    "        }\n",
    "        \n",
    "        # Add counts and percentages for each rank (1-7)\n",
    "        for rank in range(1, 8):\n",
    "            count = counts.get(rank, 0)\n",
    "            pct = (count / len(responses_not_null)) * 100 if len(responses_not_null) > 0 else 0\n",
    "            result[f'Rank {rank}'] = f\"{count} ({pct:.1f}%)\"\n",
    "        \n",
    "        ranking_questions.append(result)\n",
    "    \n",
    "    # Open-ended questions\n",
    "    else:\n",
    "        open_ended_questions.append({\n",
    "            'Question': col,\n",
    "            'Total Responses': len(responses_not_null),\n",
    "            'No Response': null_count,\n",
    "            'Response Rate %': round((len(responses_not_null) / total_possible) * 100, 1)\n",
    "        })\n",
    "\n",
    "# Create DataFrames\n",
    "importance_df = pd.DataFrame(importance_questions) if importance_questions else None\n",
    "ranking_df = pd.DataFrame(ranking_questions) if ranking_questions else None\n",
    "open_ended_df = pd.DataFrame(open_ended_questions) if open_ended_questions else None\n",
    "\n",
    "# Sort by response rate and top category\n",
    "if importance_df is not None:\n",
    "    importance_df = importance_df.sort_values('Extremely important', \n",
    "                                             key=lambda x: x.str.extract(r'(\\d+)')[0].astype(int), \n",
    "                                             ascending=False)\n",
    "\n",
    "if ranking_df is not None:\n",
    "    ranking_df = ranking_df.sort_values('Rank 1', \n",
    "                                       key=lambda x: x.str.extract(r'(\\d+)')[0].astype(int), \n",
    "                                       ascending=False)\n",
    "\n",
    "if open_ended_df is not None:\n",
    "    open_ended_df = open_ended_df.sort_values('Response Rate %', ascending=False)\n",
    "\n",
    "# Function to format Excel sheet\n",
    "def format_sheet(ws, df, title):\n",
    "    # Set title\n",
    "    ws['A1'] = title\n",
    "    ws['A1'].font = Font(size=14, bold=True)\n",
    "    ws['A1'].fill = PatternFill(start_color=\"366092\", end_color=\"366092\", fill_type=\"solid\")\n",
    "    ws['A1'].font = Font(size=14, bold=True, color=\"FFFFFF\")\n",
    "    ws.merge_cells(f'A1:{get_column_letter(len(df.columns))}1')\n",
    "    \n",
    "    # Write headers in row 2\n",
    "    for col_num, column_title in enumerate(df.columns, 1):\n",
    "        cell = ws.cell(row=2, column=col_num)\n",
    "        cell.value = column_title\n",
    "        cell.font = Font(bold=True, size=11)\n",
    "        cell.fill = PatternFill(start_color=\"D9E1F2\", end_color=\"D9E1F2\", fill_type=\"solid\")\n",
    "        cell.alignment = Alignment(horizontal='center', vertical='center', wrap_text=True)\n",
    "    \n",
    "    # Write data starting from row 3\n",
    "    for r_idx, row in enumerate(df.values, 3):\n",
    "        for c_idx, value in enumerate(row, 1):\n",
    "            cell = ws.cell(row=r_idx, column=c_idx)\n",
    "            cell.value = value\n",
    "            \n",
    "            # Align differently based on column\n",
    "            if c_idx == 1:  # Question column\n",
    "                cell.alignment = Alignment(horizontal='left', vertical='top', wrap_text=True)\n",
    "            else:\n",
    "                cell.alignment = Alignment(horizontal='center', vertical='center')\n",
    "            \n",
    "            # Add borders\n",
    "            thin_border = Border(\n",
    "                left=Side(style='thin'),\n",
    "                right=Side(style='thin'),\n",
    "                top=Side(style='thin'),\n",
    "                bottom=Side(style='thin')\n",
    "            )\n",
    "            cell.border = thin_border\n",
    "            \n",
    "            # Alternate row colors\n",
    "            if r_idx % 2 == 0:\n",
    "                cell.fill = PatternFill(start_color=\"F2F2F2\", end_color=\"F2F2F2\", fill_type=\"solid\")\n",
    "    \n",
    "    # Adjust column widths\n",
    "    ws.column_dimensions['A'].width = 60  # Question column\n",
    "    for col_num in range(2, len(df.columns) + 1):\n",
    "        ws.column_dimensions[get_column_letter(col_num)].width = 15\n",
    "    \n",
    "    # Freeze panes\n",
    "    ws.freeze_panes = 'B3'\n",
    "\n",
    "# Export to Excel with formatting\n",
    "print(\"\\nCreating formatted Excel file...\")\n",
    "with pd.ExcelWriter('survey_analysis_summary.xlsx', engine='openpyxl') as writer:\n",
    "    \n",
    "    if importance_df is not None:\n",
    "        importance_df.to_excel(writer, sheet_name='Importance Questions', index=False, startrow=1)\n",
    "        ws = writer.sheets['Importance Questions']\n",
    "        format_sheet(ws, importance_df, f'IMPORTANCE QUESTIONS (n={total_possible} total respondents)')\n",
    "        print(f\"✓ Added {len(importance_df)} importance questions\")\n",
    "    \n",
    "    if ranking_df is not None:\n",
    "        ranking_df.to_excel(writer, sheet_name='Ranking Questions', index=False, startrow=1)\n",
    "        ws = writer.sheets['Ranking Questions']\n",
    "        format_sheet(ws, ranking_df, f'RANKING QUESTIONS (n={total_possible} total respondents)')\n",
    "        print(f\"✓ Added {len(ranking_df)} ranking questions\")\n",
    "    \n",
    "    if open_ended_df is not None:\n",
    "        open_ended_df.to_excel(writer, sheet_name='Open-Ended Questions', index=False, startrow=1)\n",
    "        ws = writer.sheets['Open-Ended Questions']\n",
    "        format_sheet(ws, open_ended_df, f'OPEN-ENDED QUESTIONS (n={total_possible} total respondents)')\n",
    "        print(f\"✓ Added {len(open_ended_df)} open-ended questions\")\n",
    "\n",
    "print(\"\\n\" + \"=\"*80)\n",
    "print(\"✓ ANALYSIS COMPLETE - Saved to 'survey_analysis_summary.xlsx'\")\n",
    "print(\"=\"*80)\n",
    "print(f\"\\nSummary:\")\n",
    "print(f\"  Total respondents: {total_possible}\")\n",
    "print(f\"  Importance questions: {len(importance_questions) if importance_questions else 0}\")\n",
    "print(f\"  Ranking questions: {len(ranking_questions) if ranking_questions else 0}\")\n",
    "print(f\"  Open-ended questions: {len(open_ended_questions) if open_ended_questions else 0}\")\n",
    "print(\"\\nOpen the Excel file to see the beautifully formatted results! 📊\")"
   ]
  },
  {
   "cell_type": "markdown",
   "id": "f6c18a8d",
   "metadata": {},
   "source": [
    "# Faculty Survey Analysis"
   ]
  },
  {
   "cell_type": "code",
   "execution_count": 11,
   "id": "852ca5da",
   "metadata": {},
   "outputs": [
    {
     "name": "stdout",
     "output_type": "stream",
     "text": [
      "Analyzing faculty survey with 112 total respondents...\n",
      "\n",
      "Creating formatted Excel file...\n",
      "✓ Added 79 importance questions\n",
      "✓ Added 12 ranking questions\n",
      "✓ Added 11 open-ended questions\n",
      "\n",
      "================================================================================\n",
      "✓ ANALYSIS COMPLETE - Saved to 'faculty_survey_analysis.xlsx'\n",
      "================================================================================\n",
      "\n",
      "Summary:\n",
      "  Total respondents: 112\n",
      "  Importance questions: 79\n",
      "  Ranking questions: 12\n",
      "  Open-ended questions: 11\n",
      "\n",
      "Open the Excel file to see the beautifully formatted results! 📊\n"
     ]
    }
   ],
   "source": [
    "import pandas as pd\n",
    "from collections import Counter\n",
    "import openpyxl\n",
    "from openpyxl.styles import Font, PatternFill, Alignment, Border, Side\n",
    "from openpyxl.utils import get_column_letter\n",
    "\n",
    "# Read the CSV file\n",
    "df = pd.read_csv('faculty_survey.csv')\n",
    "\n",
    "# Remove metadata columns (first 6 columns)\n",
    "metadata_cols = ['Start Date', 'End Date', 'Progress', 'Duration (in seconds)', 'Finished', 'Recorded Date']\n",
    "survey_df = df.drop(columns=metadata_cols)\n",
    "\n",
    "# Total number of possible responses (all rows)\n",
    "total_possible = len(survey_df)\n",
    "\n",
    "# Store results for sorting\n",
    "importance_questions = []\n",
    "ranking_questions = []\n",
    "open_ended_questions = []\n",
    "\n",
    "# Define the order for importance levels\n",
    "importance_order = ['Extremely important', 'Very important', 'Moderately Important', \n",
    "                   'Moderately important', 'Slightly important', 'Not Important', 'Not at all important']\n",
    "\n",
    "print(f\"Analyzing faculty survey with {total_possible} total respondents...\")\n",
    "\n",
    "# Analyze each question\n",
    "for col in survey_df.columns:\n",
    "    responses = survey_df[col]\n",
    "    responses_not_null = responses.dropna()\n",
    "    null_count = total_possible - len(responses_not_null)\n",
    "    \n",
    "    if len(responses_not_null) == 0:\n",
    "        continue\n",
    "    \n",
    "    counts = Counter(responses_not_null)\n",
    "    \n",
    "    # Check if it's an importance question\n",
    "    if any(imp in counts for imp in importance_order):\n",
    "        result = {\n",
    "            'Question': col,\n",
    "            'Total Responses': len(responses_not_null),\n",
    "            'No Response': null_count,\n",
    "            'Response Rate %': round((len(responses_not_null) / total_possible) * 100, 1)\n",
    "        }\n",
    "        \n",
    "        # Add counts and percentages for each importance level\n",
    "        for level in importance_order:\n",
    "            count = counts.get(level, 0)\n",
    "            pct = (count / len(responses_not_null)) * 100 if len(responses_not_null) > 0 else 0\n",
    "            result[f'{level}'] = f\"{count} ({pct:.1f}%)\"\n",
    "        \n",
    "        importance_questions.append(result)\n",
    "    \n",
    "    # Check if it's a ranking question (1-7)\n",
    "    elif all(isinstance(r, (int, float)) for r in responses_not_null if pd.notna(r)):\n",
    "        result = {\n",
    "            'Question': col,\n",
    "            'Total Responses': len(responses_not_null),\n",
    "            'No Response': null_count,\n",
    "            'Response Rate %': round((len(responses_not_null) / total_possible) * 100, 1)\n",
    "        }\n",
    "        \n",
    "        # Add counts and percentages for each rank (1-7)\n",
    "        for rank in range(1, 8):\n",
    "            count = counts.get(rank, 0)\n",
    "            pct = (count / len(responses_not_null)) * 100 if len(responses_not_null) > 0 else 0\n",
    "            result[f'Rank {rank}'] = f\"{count} ({pct:.1f}%)\"\n",
    "        \n",
    "        ranking_questions.append(result)\n",
    "    \n",
    "    # Open-ended questions\n",
    "    else:\n",
    "        open_ended_questions.append({\n",
    "            'Question': col,\n",
    "            'Total Responses': len(responses_not_null),\n",
    "            'No Response': null_count,\n",
    "            'Response Rate %': round((len(responses_not_null) / total_possible) * 100, 1)\n",
    "        })\n",
    "\n",
    "# Create DataFrames\n",
    "importance_df = pd.DataFrame(importance_questions) if importance_questions else None\n",
    "ranking_df = pd.DataFrame(ranking_questions) if ranking_questions else None\n",
    "open_ended_df = pd.DataFrame(open_ended_questions) if open_ended_questions else None\n",
    "\n",
    "# Sort by response rate and top category\n",
    "if importance_df is not None:\n",
    "    importance_df = importance_df.sort_values('Extremely important', \n",
    "                                             key=lambda x: x.str.extract(r'(\\d+)')[0].astype(int), \n",
    "                                             ascending=False)\n",
    "\n",
    "if ranking_df is not None:\n",
    "    ranking_df = ranking_df.sort_values('Rank 1', \n",
    "                                       key=lambda x: x.str.extract(r'(\\d+)')[0].astype(int), \n",
    "                                       ascending=False)\n",
    "\n",
    "if open_ended_df is not None:\n",
    "    open_ended_df = open_ended_df.sort_values('Response Rate %', ascending=False)\n",
    "\n",
    "# Function to format Excel sheet\n",
    "def format_sheet(ws, df, title):\n",
    "    # Set title\n",
    "    ws['A1'] = title\n",
    "    ws['A1'].font = Font(size=14, bold=True)\n",
    "    ws['A1'].fill = PatternFill(start_color=\"366092\", end_color=\"366092\", fill_type=\"solid\")\n",
    "    ws['A1'].font = Font(size=14, bold=True, color=\"FFFFFF\")\n",
    "    ws.merge_cells(f'A1:{get_column_letter(len(df.columns))}1')\n",
    "    \n",
    "    # Write headers in row 2\n",
    "    for col_num, column_title in enumerate(df.columns, 1):\n",
    "        cell = ws.cell(row=2, column=col_num)\n",
    "        cell.value = column_title\n",
    "        cell.font = Font(bold=True, size=11)\n",
    "        cell.fill = PatternFill(start_color=\"D9E1F2\", end_color=\"D9E1F2\", fill_type=\"solid\")\n",
    "        cell.alignment = Alignment(horizontal='center', vertical='center', wrap_text=True)\n",
    "    \n",
    "    # Write data starting from row 3\n",
    "    for r_idx, row in enumerate(df.values, 3):\n",
    "        for c_idx, value in enumerate(row, 1):\n",
    "            cell = ws.cell(row=r_idx, column=c_idx)\n",
    "            cell.value = value\n",
    "            \n",
    "            # Align differently based on column\n",
    "            if c_idx == 1:  # Question column\n",
    "                cell.alignment = Alignment(horizontal='left', vertical='top', wrap_text=True)\n",
    "            else:\n",
    "                cell.alignment = Alignment(horizontal='center', vertical='center')\n",
    "            \n",
    "            # Add borders\n",
    "            thin_border = Border(\n",
    "                left=Side(style='thin'),\n",
    "                right=Side(style='thin'),\n",
    "                top=Side(style='thin'),\n",
    "                bottom=Side(style='thin')\n",
    "            )\n",
    "            cell.border = thin_border\n",
    "            \n",
    "            # Alternate row colors\n",
    "            if r_idx % 2 == 0:\n",
    "                cell.fill = PatternFill(start_color=\"F2F2F2\", end_color=\"F2F2F2\", fill_type=\"solid\")\n",
    "    \n",
    "    # Adjust column widths\n",
    "    ws.column_dimensions['A'].width = 60  # Question column\n",
    "    for col_num in range(2, len(df.columns) + 1):\n",
    "        ws.column_dimensions[get_column_letter(col_num)].width = 15\n",
    "    \n",
    "    # Freeze panes\n",
    "    ws.freeze_panes = 'B3'\n",
    "\n",
    "# Export to Excel with formatting\n",
    "print(\"\\nCreating formatted Excel file...\")\n",
    "with pd.ExcelWriter('faculty_survey_analysis.xlsx', engine='openpyxl') as writer:\n",
    "    \n",
    "    if importance_df is not None:\n",
    "        importance_df.to_excel(writer, sheet_name='Importance Questions', index=False, startrow=1)\n",
    "        ws = writer.sheets['Importance Questions']\n",
    "        format_sheet(ws, importance_df, f'IMPORTANCE QUESTIONS (n={total_possible} total respondents)')\n",
    "        print(f\"✓ Added {len(importance_df)} importance questions\")\n",
    "    \n",
    "    if ranking_df is not None:\n",
    "        ranking_df.to_excel(writer, sheet_name='Ranking Questions', index=False, startrow=1)\n",
    "        ws = writer.sheets['Ranking Questions']\n",
    "        format_sheet(ws, ranking_df, f'RANKING QUESTIONS (n={total_possible} total respondents)')\n",
    "        print(f\"✓ Added {len(ranking_df)} ranking questions\")\n",
    "    \n",
    "    if open_ended_df is not None:\n",
    "        open_ended_df.to_excel(writer, sheet_name='Open-Ended Questions', index=False, startrow=1)\n",
    "        ws = writer.sheets['Open-Ended Questions']\n",
    "        format_sheet(ws, open_ended_df, f'OPEN-ENDED QUESTIONS (n={total_possible} total respondents)')\n",
    "        print(f\"✓ Added {len(open_ended_df)} open-ended questions\")\n",
    "\n",
    "print(\"\\n\" + \"=\"*80)\n",
    "print(\"✓ ANALYSIS COMPLETE - Saved to 'faculty_survey_analysis.xlsx'\")\n",
    "print(\"=\"*80)\n",
    "print(f\"\\nSummary:\")\n",
    "print(f\"  Total respondents: {total_possible}\")\n",
    "print(f\"  Importance questions: {len(importance_questions) if importance_questions else 0}\")\n",
    "print(f\"  Ranking questions: {len(ranking_questions) if ranking_questions else 0}\")\n",
    "print(f\"  Open-ended questions: {len(open_ended_questions) if open_ended_questions else 0}\")\n",
    "print(\"\\nOpen the Excel file to see the beautifully formatted results! 📊\")"
   ]
  },
  {
   "cell_type": "markdown",
   "id": "bc6947f0",
   "metadata": {},
   "source": [
    "# Student Survey Analysis"
   ]
  },
  {
   "cell_type": "code",
   "execution_count": 13,
   "id": "5df9bad1",
   "metadata": {},
   "outputs": [
    {
     "name": "stdout",
     "output_type": "stream",
     "text": [
      "Identified 3 metadata columns to remove:\n",
      "  - Progress\n",
      "  - Duration (in seconds)\n",
      "  - Finished\n",
      "Analyzing student survey with 220 total respondents...\n",
      "\n",
      "Creating formatted Excel file...\n",
      "✓ Added 79 importance questions\n",
      "✓ Added 4 ranking questions\n",
      "✓ Added 20 open-ended questions\n",
      "\n",
      "================================================================================\n",
      "✓ ANALYSIS COMPLETE - Saved to 'student_survey_analysis.xlsx'\n",
      "================================================================================\n",
      "\n",
      "Summary:\n",
      "  Total respondents: 220\n",
      "  Importance questions: 79\n",
      "  Ranking questions: 4\n",
      "  Open-ended questions: 20\n",
      "\n",
      "Open the Excel file to see the beautifully formatted results! 📊\n"
     ]
    }
   ],
   "source": [
    "import pandas as pd\n",
    "from collections import Counter\n",
    "import openpyxl\n",
    "from openpyxl.styles import Font, PatternFill, Alignment, Border, Side\n",
    "from openpyxl.utils import get_column_letter\n",
    "\n",
    "# Read the CSV file\n",
    "df = pd.read_csv('student_survey.csv')\n",
    "\n",
    "# Dynamically identify and remove metadata columns\n",
    "# Metadata columns are typically: dates, progress, duration, finished, recorded date, response ID, etc.\n",
    "metadata_keywords = ['start date', 'end date', 'progress', 'duration', 'finished', \n",
    "                     'recorded date', 'response id', 'ip address', 'recipient', \n",
    "                     'external reference', 'location', 'distribution channel', 'user language']\n",
    "\n",
    "# Find columns that contain metadata keywords (case insensitive)\n",
    "metadata_cols = [col for col in df.columns if any(keyword in col.lower() for keyword in metadata_keywords)]\n",
    "\n",
    "print(f\"Identified {len(metadata_cols)} metadata columns to remove:\")\n",
    "for col in metadata_cols:\n",
    "    print(f\"  - {col}\")\n",
    "\n",
    "# Remove metadata columns\n",
    "survey_df = df.drop(columns=metadata_cols)\n",
    "\n",
    "# Total number of possible responses (all rows)\n",
    "total_possible = len(survey_df)\n",
    "\n",
    "# Store results for sorting\n",
    "importance_questions = []\n",
    "ranking_questions = []\n",
    "open_ended_questions = []\n",
    "\n",
    "# Define the order for importance levels\n",
    "importance_order = ['Extremely important', 'Very important', 'Moderately Important', \n",
    "                   'Moderately important', 'Slightly important', 'Not Important', 'Not at all important']\n",
    "\n",
    "print(f\"Analyzing student survey with {total_possible} total respondents...\")\n",
    "\n",
    "# Analyze each question\n",
    "for col in survey_df.columns:\n",
    "    responses = survey_df[col]\n",
    "    responses_not_null = responses.dropna()\n",
    "    null_count = total_possible - len(responses_not_null)\n",
    "    \n",
    "    if len(responses_not_null) == 0:\n",
    "        continue\n",
    "    \n",
    "    counts = Counter(responses_not_null)\n",
    "    \n",
    "    # Check if it's an importance question\n",
    "    if any(imp in counts for imp in importance_order):\n",
    "        result = {\n",
    "            'Question': col,\n",
    "            'Total Responses': len(responses_not_null),\n",
    "            'No Response': null_count,\n",
    "            'Response Rate %': round((len(responses_not_null) / total_possible) * 100, 1)\n",
    "        }\n",
    "        \n",
    "        # Add counts and percentages for each importance level\n",
    "        for level in importance_order:\n",
    "            count = counts.get(level, 0)\n",
    "            pct = (count / len(responses_not_null)) * 100 if len(responses_not_null) > 0 else 0\n",
    "            result[f'{level}'] = f\"{count} ({pct:.1f}%)\"\n",
    "        \n",
    "        importance_questions.append(result)\n",
    "    \n",
    "    # Check if it's a ranking question (1-7)\n",
    "    elif all(isinstance(r, (int, float)) for r in responses_not_null if pd.notna(r)):\n",
    "        result = {\n",
    "            'Question': col,\n",
    "            'Total Responses': len(responses_not_null),\n",
    "            'No Response': null_count,\n",
    "            'Response Rate %': round((len(responses_not_null) / total_possible) * 100, 1)\n",
    "        }\n",
    "        \n",
    "        # Add counts and percentages for each rank (1-7)\n",
    "        for rank in range(1, 8):\n",
    "            count = counts.get(rank, 0)\n",
    "            pct = (count / len(responses_not_null)) * 100 if len(responses_not_null) > 0 else 0\n",
    "            result[f'Rank {rank}'] = f\"{count} ({pct:.1f}%)\"\n",
    "        \n",
    "        ranking_questions.append(result)\n",
    "    \n",
    "    # Open-ended questions\n",
    "    else:\n",
    "        open_ended_questions.append({\n",
    "            'Question': col,\n",
    "            'Total Responses': len(responses_not_null),\n",
    "            'No Response': null_count,\n",
    "            'Response Rate %': round((len(responses_not_null) / total_possible) * 100, 1)\n",
    "        })\n",
    "\n",
    "# Create DataFrames\n",
    "importance_df = pd.DataFrame(importance_questions) if importance_questions else None\n",
    "ranking_df = pd.DataFrame(ranking_questions) if ranking_questions else None\n",
    "open_ended_df = pd.DataFrame(open_ended_questions) if open_ended_questions else None\n",
    "\n",
    "# Sort by response rate and top category\n",
    "if importance_df is not None:\n",
    "    importance_df = importance_df.sort_values('Extremely important', \n",
    "                                             key=lambda x: x.str.extract(r'(\\d+)')[0].astype(int), \n",
    "                                             ascending=False)\n",
    "\n",
    "if ranking_df is not None:\n",
    "    ranking_df = ranking_df.sort_values('Rank 1', \n",
    "                                       key=lambda x: x.str.extract(r'(\\d+)')[0].astype(int), \n",
    "                                       ascending=False)\n",
    "\n",
    "if open_ended_df is not None:\n",
    "    open_ended_df = open_ended_df.sort_values('Response Rate %', ascending=False)\n",
    "\n",
    "# Function to format Excel sheet\n",
    "def format_sheet(ws, df, title):\n",
    "    # Set title\n",
    "    ws['A1'] = title\n",
    "    ws['A1'].font = Font(size=14, bold=True)\n",
    "    ws['A1'].fill = PatternFill(start_color=\"366092\", end_color=\"366092\", fill_type=\"solid\")\n",
    "    ws['A1'].font = Font(size=14, bold=True, color=\"FFFFFF\")\n",
    "    ws.merge_cells(f'A1:{get_column_letter(len(df.columns))}1')\n",
    "    \n",
    "    # Write headers in row 2\n",
    "    for col_num, column_title in enumerate(df.columns, 1):\n",
    "        cell = ws.cell(row=2, column=col_num)\n",
    "        cell.value = column_title\n",
    "        cell.font = Font(bold=True, size=11)\n",
    "        cell.fill = PatternFill(start_color=\"D9E1F2\", end_color=\"D9E1F2\", fill_type=\"solid\")\n",
    "        cell.alignment = Alignment(horizontal='center', vertical='center', wrap_text=True)\n",
    "    \n",
    "    # Write data starting from row 3\n",
    "    for r_idx, row in enumerate(df.values, 3):\n",
    "        for c_idx, value in enumerate(row, 1):\n",
    "            cell = ws.cell(row=r_idx, column=c_idx)\n",
    "            cell.value = value\n",
    "            \n",
    "            # Align differently based on column\n",
    "            if c_idx == 1:  # Question column\n",
    "                cell.alignment = Alignment(horizontal='left', vertical='top', wrap_text=True)\n",
    "            else:\n",
    "                cell.alignment = Alignment(horizontal='center', vertical='center')\n",
    "            \n",
    "            # Add borders\n",
    "            thin_border = Border(\n",
    "                left=Side(style='thin'),\n",
    "                right=Side(style='thin'),\n",
    "                top=Side(style='thin'),\n",
    "                bottom=Side(style='thin')\n",
    "            )\n",
    "            cell.border = thin_border\n",
    "            \n",
    "            # Alternate row colors\n",
    "            if r_idx % 2 == 0:\n",
    "                cell.fill = PatternFill(start_color=\"F2F2F2\", end_color=\"F2F2F2\", fill_type=\"solid\")\n",
    "    \n",
    "    # Adjust column widths\n",
    "    ws.column_dimensions['A'].width = 60  # Question column\n",
    "    for col_num in range(2, len(df.columns) + 1):\n",
    "        ws.column_dimensions[get_column_letter(col_num)].width = 15\n",
    "    \n",
    "    # Freeze panes\n",
    "    ws.freeze_panes = 'B3'\n",
    "\n",
    "# Export to Excel with formatting\n",
    "print(\"\\nCreating formatted Excel file...\")\n",
    "with pd.ExcelWriter('student_survey_analysis.xlsx', engine='openpyxl') as writer:\n",
    "    \n",
    "    if importance_df is not None:\n",
    "        importance_df.to_excel(writer, sheet_name='Importance Questions', index=False, startrow=1)\n",
    "        ws = writer.sheets['Importance Questions']\n",
    "        format_sheet(ws, importance_df, f'IMPORTANCE QUESTIONS (n={total_possible} total respondents)')\n",
    "        print(f\"✓ Added {len(importance_df)} importance questions\")\n",
    "    \n",
    "    if ranking_df is not None:\n",
    "        ranking_df.to_excel(writer, sheet_name='Ranking Questions', index=False, startrow=1)\n",
    "        ws = writer.sheets['Ranking Questions']\n",
    "        format_sheet(ws, ranking_df, f'RANKING QUESTIONS (n={total_possible} total respondents)')\n",
    "        print(f\"✓ Added {len(ranking_df)} ranking questions\")\n",
    "    \n",
    "    if open_ended_df is not None:\n",
    "        open_ended_df.to_excel(writer, sheet_name='Open-Ended Questions', index=False, startrow=1)\n",
    "        ws = writer.sheets['Open-Ended Questions']\n",
    "        format_sheet(ws, open_ended_df, f'OPEN-ENDED QUESTIONS (n={total_possible} total respondents)')\n",
    "        print(f\"✓ Added {len(open_ended_df)} open-ended questions\")\n",
    "\n",
    "print(\"\\n\" + \"=\"*80)\n",
    "print(\"✓ ANALYSIS COMPLETE - Saved to 'student_survey_analysis.xlsx'\")\n",
    "print(\"=\"*80)\n",
    "print(f\"\\nSummary:\")\n",
    "print(f\"  Total respondents: {total_possible}\")\n",
    "print(f\"  Importance questions: {len(importance_questions) if importance_questions else 0}\")\n",
    "print(f\"  Ranking questions: {len(ranking_questions) if ranking_questions else 0}\")\n",
    "print(f\"  Open-ended questions: {len(open_ended_questions) if open_ended_questions else 0}\")\n",
    "print(\"\\nOpen the Excel file to see the beautifully formatted results! 📊\")"
   ]
  },
  {
   "cell_type": "markdown",
   "id": "ccdfc078",
   "metadata": {},
   "source": [
    "# This is the all in one approach"
   ]
  },
  {
   "cell_type": "code",
   "execution_count": 1,
   "id": "3f143731",
   "metadata": {},
   "outputs": [
    {
     "name": "stdout",
     "output_type": "stream",
     "text": [
      "\n",
      "================================================================================\n",
      "Analyzing Staff Survey...\n",
      "================================================================================\n",
      "  Total respondents: 20\n",
      "  Importance questions: 78\n",
      "  Ranking questions: 11\n",
      "  Open-ended questions: 5\n",
      "\n",
      "================================================================================\n",
      "Analyzing Faculty Survey...\n",
      "================================================================================\n",
      "  Total respondents: 112\n",
      "  Importance questions: 79\n",
      "  Ranking questions: 12\n",
      "  Open-ended questions: 11\n",
      "\n",
      "================================================================================\n",
      "Analyzing Student Survey...\n",
      "================================================================================\n",
      "  Total respondents: 220\n",
      "  Importance questions: 79\n",
      "  Ranking questions: 4\n",
      "  Open-ended questions: 20\n",
      "\n",
      "================================================================================\n",
      "Creating comprehensive Excel file...\n",
      "================================================================================\n",
      "✓ Added Summary sheet\n",
      "✓ Added 236 importance questions\n",
      "✓ Added 27 ranking questions\n",
      "✓ Added 36 open-ended questions\n",
      "\n",
      "✓ Saved comprehensive analysis to 'all_surveys_analysis.xlsx'\n",
      "\n",
      "================================================================================\n",
      "Creating interactive visualizations...\n",
      "================================================================================\n"
     ]
    },
    {
     "data": {
      "application/vnd.plotly.v1+json": {
       "config": {
        "plotlyServerURL": "https://plot.ly"
       },
       "data": [
        {
         "marker": {
          "color": "#366092"
         },
         "name": "Total Respondents",
         "text": {
          "bdata": "AAAAAAAANEAAAAAAAABcQAAAAAAAgGtA",
          "dtype": "f8"
         },
         "textposition": "auto",
         "type": "bar",
         "x": [
          "Staff",
          "Faculty",
          "Student"
         ],
         "y": {
          "bdata": "FABwANwA",
          "dtype": "i2"
         }
        }
       ],
       "layout": {
        "height": 500,
        "template": {
         "data": {
          "bar": [
           {
            "error_x": {
             "color": "#2a3f5f"
            },
            "error_y": {
             "color": "#2a3f5f"
            },
            "marker": {
             "line": {
              "color": "white",
              "width": 0.5
             },
             "pattern": {
              "fillmode": "overlay",
              "size": 10,
              "solidity": 0.2
             }
            },
            "type": "bar"
           }
          ],
          "barpolar": [
           {
            "marker": {
             "line": {
              "color": "white",
              "width": 0.5
             },
             "pattern": {
              "fillmode": "overlay",
              "size": 10,
              "solidity": 0.2
             }
            },
            "type": "barpolar"
           }
          ],
          "carpet": [
           {
            "aaxis": {
             "endlinecolor": "#2a3f5f",
             "gridcolor": "#C8D4E3",
             "linecolor": "#C8D4E3",
             "minorgridcolor": "#C8D4E3",
             "startlinecolor": "#2a3f5f"
            },
            "baxis": {
             "endlinecolor": "#2a3f5f",
             "gridcolor": "#C8D4E3",
             "linecolor": "#C8D4E3",
             "minorgridcolor": "#C8D4E3",
             "startlinecolor": "#2a3f5f"
            },
            "type": "carpet"
           }
          ],
          "choropleth": [
           {
            "colorbar": {
             "outlinewidth": 0,
             "ticks": ""
            },
            "type": "choropleth"
           }
          ],
          "contour": [
           {
            "colorbar": {
             "outlinewidth": 0,
             "ticks": ""
            },
            "colorscale": [
             [
              0,
              "#0d0887"
             ],
             [
              0.1111111111111111,
              "#46039f"
             ],
             [
              0.2222222222222222,
              "#7201a8"
             ],
             [
              0.3333333333333333,
              "#9c179e"
             ],
             [
              0.4444444444444444,
              "#bd3786"
             ],
             [
              0.5555555555555556,
              "#d8576b"
             ],
             [
              0.6666666666666666,
              "#ed7953"
             ],
             [
              0.7777777777777778,
              "#fb9f3a"
             ],
             [
              0.8888888888888888,
              "#fdca26"
             ],
             [
              1,
              "#f0f921"
             ]
            ],
            "type": "contour"
           }
          ],
          "contourcarpet": [
           {
            "colorbar": {
             "outlinewidth": 0,
             "ticks": ""
            },
            "type": "contourcarpet"
           }
          ],
          "heatmap": [
           {
            "colorbar": {
             "outlinewidth": 0,
             "ticks": ""
            },
            "colorscale": [
             [
              0,
              "#0d0887"
             ],
             [
              0.1111111111111111,
              "#46039f"
             ],
             [
              0.2222222222222222,
              "#7201a8"
             ],
             [
              0.3333333333333333,
              "#9c179e"
             ],
             [
              0.4444444444444444,
              "#bd3786"
             ],
             [
              0.5555555555555556,
              "#d8576b"
             ],
             [
              0.6666666666666666,
              "#ed7953"
             ],
             [
              0.7777777777777778,
              "#fb9f3a"
             ],
             [
              0.8888888888888888,
              "#fdca26"
             ],
             [
              1,
              "#f0f921"
             ]
            ],
            "type": "heatmap"
           }
          ],
          "histogram": [
           {
            "marker": {
             "pattern": {
              "fillmode": "overlay",
              "size": 10,
              "solidity": 0.2
             }
            },
            "type": "histogram"
           }
          ],
          "histogram2d": [
           {
            "colorbar": {
             "outlinewidth": 0,
             "ticks": ""
            },
            "colorscale": [
             [
              0,
              "#0d0887"
             ],
             [
              0.1111111111111111,
              "#46039f"
             ],
             [
              0.2222222222222222,
              "#7201a8"
             ],
             [
              0.3333333333333333,
              "#9c179e"
             ],
             [
              0.4444444444444444,
              "#bd3786"
             ],
             [
              0.5555555555555556,
              "#d8576b"
             ],
             [
              0.6666666666666666,
              "#ed7953"
             ],
             [
              0.7777777777777778,
              "#fb9f3a"
             ],
             [
              0.8888888888888888,
              "#fdca26"
             ],
             [
              1,
              "#f0f921"
             ]
            ],
            "type": "histogram2d"
           }
          ],
          "histogram2dcontour": [
           {
            "colorbar": {
             "outlinewidth": 0,
             "ticks": ""
            },
            "colorscale": [
             [
              0,
              "#0d0887"
             ],
             [
              0.1111111111111111,
              "#46039f"
             ],
             [
              0.2222222222222222,
              "#7201a8"
             ],
             [
              0.3333333333333333,
              "#9c179e"
             ],
             [
              0.4444444444444444,
              "#bd3786"
             ],
             [
              0.5555555555555556,
              "#d8576b"
             ],
             [
              0.6666666666666666,
              "#ed7953"
             ],
             [
              0.7777777777777778,
              "#fb9f3a"
             ],
             [
              0.8888888888888888,
              "#fdca26"
             ],
             [
              1,
              "#f0f921"
             ]
            ],
            "type": "histogram2dcontour"
           }
          ],
          "mesh3d": [
           {
            "colorbar": {
             "outlinewidth": 0,
             "ticks": ""
            },
            "type": "mesh3d"
           }
          ],
          "parcoords": [
           {
            "line": {
             "colorbar": {
              "outlinewidth": 0,
              "ticks": ""
             }
            },
            "type": "parcoords"
           }
          ],
          "pie": [
           {
            "automargin": true,
            "type": "pie"
           }
          ],
          "scatter": [
           {
            "fillpattern": {
             "fillmode": "overlay",
             "size": 10,
             "solidity": 0.2
            },
            "type": "scatter"
           }
          ],
          "scatter3d": [
           {
            "line": {
             "colorbar": {
              "outlinewidth": 0,
              "ticks": ""
             }
            },
            "marker": {
             "colorbar": {
              "outlinewidth": 0,
              "ticks": ""
             }
            },
            "type": "scatter3d"
           }
          ],
          "scattercarpet": [
           {
            "marker": {
             "colorbar": {
              "outlinewidth": 0,
              "ticks": ""
             }
            },
            "type": "scattercarpet"
           }
          ],
          "scattergeo": [
           {
            "marker": {
             "colorbar": {
              "outlinewidth": 0,
              "ticks": ""
             }
            },
            "type": "scattergeo"
           }
          ],
          "scattergl": [
           {
            "marker": {
             "colorbar": {
              "outlinewidth": 0,
              "ticks": ""
             }
            },
            "type": "scattergl"
           }
          ],
          "scattermap": [
           {
            "marker": {
             "colorbar": {
              "outlinewidth": 0,
              "ticks": ""
             }
            },
            "type": "scattermap"
           }
          ],
          "scattermapbox": [
           {
            "marker": {
             "colorbar": {
              "outlinewidth": 0,
              "ticks": ""
             }
            },
            "type": "scattermapbox"
           }
          ],
          "scatterpolar": [
           {
            "marker": {
             "colorbar": {
              "outlinewidth": 0,
              "ticks": ""
             }
            },
            "type": "scatterpolar"
           }
          ],
          "scatterpolargl": [
           {
            "marker": {
             "colorbar": {
              "outlinewidth": 0,
              "ticks": ""
             }
            },
            "type": "scatterpolargl"
           }
          ],
          "scatterternary": [
           {
            "marker": {
             "colorbar": {
              "outlinewidth": 0,
              "ticks": ""
             }
            },
            "type": "scatterternary"
           }
          ],
          "surface": [
           {
            "colorbar": {
             "outlinewidth": 0,
             "ticks": ""
            },
            "colorscale": [
             [
              0,
              "#0d0887"
             ],
             [
              0.1111111111111111,
              "#46039f"
             ],
             [
              0.2222222222222222,
              "#7201a8"
             ],
             [
              0.3333333333333333,
              "#9c179e"
             ],
             [
              0.4444444444444444,
              "#bd3786"
             ],
             [
              0.5555555555555556,
              "#d8576b"
             ],
             [
              0.6666666666666666,
              "#ed7953"
             ],
             [
              0.7777777777777778,
              "#fb9f3a"
             ],
             [
              0.8888888888888888,
              "#fdca26"
             ],
             [
              1,
              "#f0f921"
             ]
            ],
            "type": "surface"
           }
          ],
          "table": [
           {
            "cells": {
             "fill": {
              "color": "#EBF0F8"
             },
             "line": {
              "color": "white"
             }
            },
            "header": {
             "fill": {
              "color": "#C8D4E3"
             },
             "line": {
              "color": "white"
             }
            },
            "type": "table"
           }
          ]
         },
         "layout": {
          "annotationdefaults": {
           "arrowcolor": "#2a3f5f",
           "arrowhead": 0,
           "arrowwidth": 1
          },
          "autotypenumbers": "strict",
          "coloraxis": {
           "colorbar": {
            "outlinewidth": 0,
            "ticks": ""
           }
          },
          "colorscale": {
           "diverging": [
            [
             0,
             "#8e0152"
            ],
            [
             0.1,
             "#c51b7d"
            ],
            [
             0.2,
             "#de77ae"
            ],
            [
             0.3,
             "#f1b6da"
            ],
            [
             0.4,
             "#fde0ef"
            ],
            [
             0.5,
             "#f7f7f7"
            ],
            [
             0.6,
             "#e6f5d0"
            ],
            [
             0.7,
             "#b8e186"
            ],
            [
             0.8,
             "#7fbc41"
            ],
            [
             0.9,
             "#4d9221"
            ],
            [
             1,
             "#276419"
            ]
           ],
           "sequential": [
            [
             0,
             "#0d0887"
            ],
            [
             0.1111111111111111,
             "#46039f"
            ],
            [
             0.2222222222222222,
             "#7201a8"
            ],
            [
             0.3333333333333333,
             "#9c179e"
            ],
            [
             0.4444444444444444,
             "#bd3786"
            ],
            [
             0.5555555555555556,
             "#d8576b"
            ],
            [
             0.6666666666666666,
             "#ed7953"
            ],
            [
             0.7777777777777778,
             "#fb9f3a"
            ],
            [
             0.8888888888888888,
             "#fdca26"
            ],
            [
             1,
             "#f0f921"
            ]
           ],
           "sequentialminus": [
            [
             0,
             "#0d0887"
            ],
            [
             0.1111111111111111,
             "#46039f"
            ],
            [
             0.2222222222222222,
             "#7201a8"
            ],
            [
             0.3333333333333333,
             "#9c179e"
            ],
            [
             0.4444444444444444,
             "#bd3786"
            ],
            [
             0.5555555555555556,
             "#d8576b"
            ],
            [
             0.6666666666666666,
             "#ed7953"
            ],
            [
             0.7777777777777778,
             "#fb9f3a"
            ],
            [
             0.8888888888888888,
             "#fdca26"
            ],
            [
             1,
             "#f0f921"
            ]
           ]
          },
          "colorway": [
           "#636efa",
           "#EF553B",
           "#00cc96",
           "#ab63fa",
           "#FFA15A",
           "#19d3f3",
           "#FF6692",
           "#B6E880",
           "#FF97FF",
           "#FECB52"
          ],
          "font": {
           "color": "#2a3f5f"
          },
          "geo": {
           "bgcolor": "white",
           "lakecolor": "white",
           "landcolor": "white",
           "showlakes": true,
           "showland": true,
           "subunitcolor": "#C8D4E3"
          },
          "hoverlabel": {
           "align": "left"
          },
          "hovermode": "closest",
          "mapbox": {
           "style": "light"
          },
          "paper_bgcolor": "white",
          "plot_bgcolor": "white",
          "polar": {
           "angularaxis": {
            "gridcolor": "#EBF0F8",
            "linecolor": "#EBF0F8",
            "ticks": ""
           },
           "bgcolor": "white",
           "radialaxis": {
            "gridcolor": "#EBF0F8",
            "linecolor": "#EBF0F8",
            "ticks": ""
           }
          },
          "scene": {
           "xaxis": {
            "backgroundcolor": "white",
            "gridcolor": "#DFE8F3",
            "gridwidth": 2,
            "linecolor": "#EBF0F8",
            "showbackground": true,
            "ticks": "",
            "zerolinecolor": "#EBF0F8"
           },
           "yaxis": {
            "backgroundcolor": "white",
            "gridcolor": "#DFE8F3",
            "gridwidth": 2,
            "linecolor": "#EBF0F8",
            "showbackground": true,
            "ticks": "",
            "zerolinecolor": "#EBF0F8"
           },
           "zaxis": {
            "backgroundcolor": "white",
            "gridcolor": "#DFE8F3",
            "gridwidth": 2,
            "linecolor": "#EBF0F8",
            "showbackground": true,
            "ticks": "",
            "zerolinecolor": "#EBF0F8"
           }
          },
          "shapedefaults": {
           "line": {
            "color": "#2a3f5f"
           }
          },
          "ternary": {
           "aaxis": {
            "gridcolor": "#DFE8F3",
            "linecolor": "#A2B1C6",
            "ticks": ""
           },
           "baxis": {
            "gridcolor": "#DFE8F3",
            "linecolor": "#A2B1C6",
            "ticks": ""
           },
           "bgcolor": "white",
           "caxis": {
            "gridcolor": "#DFE8F3",
            "linecolor": "#A2B1C6",
            "ticks": ""
           }
          },
          "title": {
           "x": 0.05
          },
          "xaxis": {
           "automargin": true,
           "gridcolor": "#EBF0F8",
           "linecolor": "#EBF0F8",
           "ticks": "",
           "title": {
            "standoff": 15
           },
           "zerolinecolor": "#EBF0F8",
           "zerolinewidth": 2
          },
          "yaxis": {
           "automargin": true,
           "gridcolor": "#EBF0F8",
           "linecolor": "#EBF0F8",
           "ticks": "",
           "title": {
            "standoff": 15
           },
           "zerolinecolor": "#EBF0F8",
           "zerolinewidth": 2
          }
         }
        },
        "title": {
         "text": "Survey Response Rates by Group"
        },
        "xaxis": {
         "title": {
          "text": "Survey Group"
         }
        },
        "yaxis": {
         "title": {
          "text": "Number of Respondents"
         }
        }
       }
      }
     },
     "metadata": {},
     "output_type": "display_data"
    },
    {
     "name": "stdout",
     "output_type": "stream",
     "text": [
      "✓ Displayed Response Overview\n",
      "✓ Created viz_2_top_priorities.html\n",
      "✓ Created viz_3_priority_heatmap.html\n",
      "✓ Created viz_4_response_distribution.html\n",
      "\n",
      "================================================================================\n",
      "✅ ANALYSIS COMPLETE!\n",
      "================================================================================\n",
      "\n",
      "Generated Files:\n",
      "  📊 all_surveys_analysis.xlsx - Comprehensive Excel analysis\n",
      "  📈 viz_1_response_overview.html - Response rates\n",
      "  📈 viz_2_top_priorities.html - Top 15 priorities comparison\n",
      "  📈 viz_3_priority_heatmap.html - Priority heatmap\n",
      "  📈 viz_4_response_distribution.html - Response distributions\n",
      "\n",
      "Open the HTML files in your browser to explore interactive visualizations!\n",
      "================================================================================\n"
     ]
    }
   ],
   "source": [
    "import pandas as pd\n",
    "from collections import Counter\n",
    "import openpyxl\n",
    "from openpyxl.styles import Font, PatternFill, Alignment, Border, Side\n",
    "from openpyxl.utils import get_column_letter\n",
    "import plotly.graph_objects as go\n",
    "from plotly.subplots import make_subplots\n",
    "import plotly.express as px\n",
    "\n",
    "# Define survey files and their labels\n",
    "surveys = {\n",
    "    'Staff': 'staff_survey.csv',\n",
    "    'Faculty': 'faculty_survey.csv',\n",
    "    'Student': 'student_survey.csv'\n",
    "}\n",
    "\n",
    "# Store all results\n",
    "all_importance_data = []\n",
    "all_ranking_data = []\n",
    "survey_summaries = []\n",
    "\n",
    "# Define the order for importance levels\n",
    "importance_order = ['Extremely important', 'Very important', 'Moderately Important', \n",
    "                   'Moderately important', 'Slightly important', 'Not Important', 'Not at all important']\n",
    "\n",
    "def analyze_survey(file_path, survey_type):\n",
    "    \"\"\"Analyze a single survey and return structured data\"\"\"\n",
    "    print(f\"\\n{'='*80}\")\n",
    "    print(f\"Analyzing {survey_type} Survey...\")\n",
    "    print('='*80)\n",
    "    \n",
    "    # Read the CSV file\n",
    "    df = pd.read_csv(file_path)\n",
    "    \n",
    "    # Dynamically identify and remove metadata columns\n",
    "    metadata_keywords = ['start date', 'end date', 'progress', 'duration', 'finished', \n",
    "                         'recorded date', 'response id', 'ip address', 'recipient', \n",
    "                         'external reference', 'location', 'distribution channel', 'user language']\n",
    "    \n",
    "    metadata_cols = [col for col in df.columns if any(keyword in col.lower() for keyword in metadata_keywords)]\n",
    "    survey_df = df.drop(columns=metadata_cols)\n",
    "    \n",
    "    total_possible = len(survey_df)\n",
    "    \n",
    "    importance_questions = []\n",
    "    ranking_questions = []\n",
    "    open_ended_questions = []\n",
    "    \n",
    "    # Analyze each question\n",
    "    for col in survey_df.columns:\n",
    "        responses = survey_df[col]\n",
    "        responses_not_null = responses.dropna()\n",
    "        null_count = total_possible - len(responses_not_null)\n",
    "        \n",
    "        if len(responses_not_null) == 0:\n",
    "            continue\n",
    "        \n",
    "        counts = Counter(responses_not_null)\n",
    "        \n",
    "        # Check if it's an importance question\n",
    "        if any(imp in counts for imp in importance_order):\n",
    "            result = {\n",
    "                'Survey': survey_type,\n",
    "                'Question': col,\n",
    "                'Total Responses': len(responses_not_null),\n",
    "                'No Response': null_count,\n",
    "                'Response Rate %': round((len(responses_not_null) / total_possible) * 100, 1)\n",
    "            }\n",
    "            \n",
    "            # Add counts and percentages for each importance level\n",
    "            for level in importance_order:\n",
    "                count = counts.get(level, 0)\n",
    "                pct = (count / len(responses_not_null)) * 100 if len(responses_not_null) > 0 else 0\n",
    "                result[f'{level}'] = f\"{count} ({pct:.1f}%)\"\n",
    "                result[f'{level}_count'] = count\n",
    "                result[f'{level}_pct'] = pct\n",
    "            \n",
    "            importance_questions.append(result)\n",
    "            all_importance_data.append(result)\n",
    "        \n",
    "        # Check if it's a ranking question (1-7)\n",
    "        elif all(isinstance(r, (int, float)) for r in responses_not_null if pd.notna(r)):\n",
    "            result = {\n",
    "                'Survey': survey_type,\n",
    "                'Question': col,\n",
    "                'Total Responses': len(responses_not_null),\n",
    "                'No Response': null_count,\n",
    "                'Response Rate %': round((len(responses_not_null) / total_possible) * 100, 1)\n",
    "            }\n",
    "            \n",
    "            # Add counts and percentages for each rank (1-7)\n",
    "            for rank in range(1, 8):\n",
    "                count = counts.get(rank, 0)\n",
    "                pct = (count / len(responses_not_null)) * 100 if len(responses_not_null) > 0 else 0\n",
    "                result[f'Rank {rank}'] = f\"{count} ({pct:.1f}%)\"\n",
    "                result[f'Rank {rank}_count'] = count\n",
    "                result[f'Rank {rank}_pct'] = pct\n",
    "            \n",
    "            ranking_questions.append(result)\n",
    "            all_ranking_data.append(result)\n",
    "        \n",
    "        # Open-ended questions\n",
    "        else:\n",
    "            open_ended_questions.append({\n",
    "                'Survey': survey_type,\n",
    "                'Question': col,\n",
    "                'Total Responses': len(responses_not_null),\n",
    "                'No Response': null_count,\n",
    "                'Response Rate %': round((len(responses_not_null) / total_possible) * 100, 1)\n",
    "            })\n",
    "    \n",
    "    print(f\"  Total respondents: {total_possible}\")\n",
    "    print(f\"  Importance questions: {len(importance_questions)}\")\n",
    "    print(f\"  Ranking questions: {len(ranking_questions)}\")\n",
    "    print(f\"  Open-ended questions: {len(open_ended_questions)}\")\n",
    "    \n",
    "    survey_summaries.append({\n",
    "        'Survey': survey_type,\n",
    "        'Total Respondents': total_possible,\n",
    "        'Importance Questions': len(importance_questions),\n",
    "        'Ranking Questions': len(ranking_questions),\n",
    "        'Open-Ended Questions': len(open_ended_questions)\n",
    "    })\n",
    "    \n",
    "    return importance_questions, ranking_questions, open_ended_questions, total_possible\n",
    "\n",
    "# Function to format Excel sheet\n",
    "def format_sheet(ws, df, title):\n",
    "    ws['A1'] = title\n",
    "    ws['A1'].font = Font(size=14, bold=True, color=\"FFFFFF\")\n",
    "    ws['A1'].fill = PatternFill(start_color=\"366092\", end_color=\"366092\", fill_type=\"solid\")\n",
    "    ws.merge_cells(f'A1:{get_column_letter(len(df.columns))}1')\n",
    "    \n",
    "    for col_num, column_title in enumerate(df.columns, 1):\n",
    "        cell = ws.cell(row=2, column=col_num)\n",
    "        cell.value = column_title\n",
    "        cell.font = Font(bold=True, size=11)\n",
    "        cell.fill = PatternFill(start_color=\"D9E1F2\", end_color=\"D9E1F2\", fill_type=\"solid\")\n",
    "        cell.alignment = Alignment(horizontal='center', vertical='center', wrap_text=True)\n",
    "    \n",
    "    for r_idx, row in enumerate(df.values, 3):\n",
    "        for c_idx, value in enumerate(row, 1):\n",
    "            cell = ws.cell(row=r_idx, column=c_idx)\n",
    "            cell.value = value\n",
    "            \n",
    "            if c_idx == 1:\n",
    "                cell.alignment = Alignment(horizontal='left', vertical='top', wrap_text=True)\n",
    "            else:\n",
    "                cell.alignment = Alignment(horizontal='center', vertical='center')\n",
    "            \n",
    "            thin_border = Border(\n",
    "                left=Side(style='thin'),\n",
    "                right=Side(style='thin'),\n",
    "                top=Side(style='thin'),\n",
    "                bottom=Side(style='thin')\n",
    "            )\n",
    "            cell.border = thin_border\n",
    "            \n",
    "            if r_idx % 2 == 0:\n",
    "                cell.fill = PatternFill(start_color=\"F2F2F2\", end_color=\"F2F2F2\", fill_type=\"solid\")\n",
    "    \n",
    "    ws.column_dimensions['A'].width = 60\n",
    "    for col_num in range(2, len(df.columns) + 1):\n",
    "        ws.column_dimensions[get_column_letter(col_num)].width = 15\n",
    "    \n",
    "    ws.freeze_panes = 'B3'\n",
    "\n",
    "# Analyze all surveys\n",
    "all_importance = []\n",
    "all_ranking = []\n",
    "all_open_ended = []\n",
    "\n",
    "for survey_name, file_path in surveys.items():\n",
    "    try:\n",
    "        imp, rank, open_end, total = analyze_survey(file_path, survey_name)\n",
    "        all_importance.extend(imp)\n",
    "        all_ranking.extend(rank)\n",
    "        all_open_ended.extend(open_end)\n",
    "    except FileNotFoundError:\n",
    "        print(f\"⚠️  Warning: {file_path} not found. Skipping...\")\n",
    "    except Exception as e:\n",
    "        print(f\"⚠️  Error processing {file_path}: {str(e)}\")\n",
    "\n",
    "# Create comprehensive Excel file\n",
    "print(f\"\\n{'='*80}\")\n",
    "print(\"Creating comprehensive Excel file...\")\n",
    "print('='*80)\n",
    "\n",
    "with pd.ExcelWriter('all_surveys_analysis.xlsx', engine='openpyxl') as writer:\n",
    "    \n",
    "    # Summary sheet\n",
    "    if survey_summaries:\n",
    "        summary_df = pd.DataFrame(survey_summaries)\n",
    "        summary_df.to_excel(writer, sheet_name='Summary', index=False)\n",
    "        ws = writer.sheets['Summary']\n",
    "        format_sheet(ws, summary_df, 'SURVEY SUMMARY')\n",
    "        print(\"✓ Added Summary sheet\")\n",
    "    \n",
    "    # All importance questions\n",
    "    if all_importance:\n",
    "        # Create display dataframe (without _count and _pct columns)\n",
    "        display_cols = [col for col in all_importance[0].keys() if not col.endswith('_count') and not col.endswith('_pct')]\n",
    "        importance_display = [{k: v for k, v in row.items() if k in display_cols} for row in all_importance]\n",
    "        \n",
    "        importance_df = pd.DataFrame(importance_display)\n",
    "        importance_df = importance_df.sort_values(['Survey', 'Extremely important'], \n",
    "                                                  key=lambda x: x if x.name == 'Survey' else x.str.extract(r'(\\d+)')[0].astype(int), \n",
    "                                                  ascending=[True, False])\n",
    "        importance_df.to_excel(writer, sheet_name='All Importance Questions', index=False, startrow=1)\n",
    "        ws = writer.sheets['All Importance Questions']\n",
    "        format_sheet(ws, importance_df, 'ALL IMPORTANCE QUESTIONS - BY SURVEY')\n",
    "        print(f\"✓ Added {len(importance_df)} importance questions\")\n",
    "    \n",
    "    # All ranking questions\n",
    "    if all_ranking:\n",
    "        display_cols = [col for col in all_ranking[0].keys() if not col.endswith('_count') and not col.endswith('_pct')]\n",
    "        ranking_display = [{k: v for k, v in row.items() if k in display_cols} for row in all_ranking]\n",
    "        \n",
    "        ranking_df = pd.DataFrame(ranking_display)\n",
    "        ranking_df = ranking_df.sort_values(['Survey', 'Rank 1'], \n",
    "                                           key=lambda x: x if x.name == 'Survey' else x.str.extract(r'(\\d+)')[0].astype(int), \n",
    "                                           ascending=[True, False])\n",
    "        ranking_df.to_excel(writer, sheet_name='All Ranking Questions', index=False, startrow=1)\n",
    "        ws = writer.sheets['All Ranking Questions']\n",
    "        format_sheet(ws, ranking_df, 'ALL RANKING QUESTIONS - BY SURVEY')\n",
    "        print(f\"✓ Added {len(ranking_df)} ranking questions\")\n",
    "    \n",
    "    # All open-ended questions\n",
    "    if all_open_ended:\n",
    "        open_ended_df = pd.DataFrame(all_open_ended)\n",
    "        open_ended_df = open_ended_df.sort_values(['Survey', 'Response Rate %'], ascending=[True, False])\n",
    "        open_ended_df.to_excel(writer, sheet_name='All Open-Ended Questions', index=False, startrow=1)\n",
    "        ws = writer.sheets['All Open-Ended Questions']\n",
    "        format_sheet(ws, open_ended_df, 'ALL OPEN-ENDED QUESTIONS - BY SURVEY')\n",
    "        print(f\"✓ Added {len(open_ended_df)} open-ended questions\")\n",
    "\n",
    "print(f\"\\n✓ Saved comprehensive analysis to 'all_surveys_analysis.xlsx'\")\n",
    "\n",
    "# CREATE VISUALIZATIONS\n",
    "print(f\"\\n{'='*80}\")\n",
    "print(\"Creating interactive visualizations...\")\n",
    "print('='*80)\n",
    "\n",
    "# Visualization 1: Survey Response Overview\n",
    "if survey_summaries:\n",
    "    summary_df = pd.DataFrame(survey_summaries)\n",
    "    \n",
    "    fig1 = go.Figure()\n",
    "    fig1.add_trace(go.Bar(\n",
    "        name='Total Respondents',\n",
    "        x=summary_df['Survey'],\n",
    "        y=summary_df['Total Respondents'],\n",
    "        text=summary_df['Total Respondents'],\n",
    "        textposition='auto',\n",
    "        marker_color='#366092'\n",
    "    ))\n",
    "    \n",
    "    fig1.update_layout(\n",
    "        title='Survey Response Rates by Group',\n",
    "        xaxis_title='Survey Group',\n",
    "        yaxis_title='Number of Respondents',\n",
    "        template='plotly_white',\n",
    "        height=500\n",
    "    )\n",
    "    fig1.show()\n",
    "    print(\"✓ Displayed Response Overview\")\n",
    "\n",
    "# Visualization 2: Top 10 Most Important Priorities (Across All Groups)\n",
    "if all_importance:\n",
    "    # Get top priorities by \"Extremely important\" percentage\n",
    "    top_priorities = sorted(all_importance_data, key=lambda x: x['Extremely important_pct'], reverse=True)[:15]\n",
    "    \n",
    "    fig2 = go.Figure()\n",
    "    \n",
    "    for survey in ['Staff', 'Faculty', 'Student']:\n",
    "        survey_data = [p for p in top_priorities if p['Survey'] == survey]\n",
    "        if survey_data:\n",
    "            fig2.add_trace(go.Bar(\n",
    "                name=survey,\n",
    "                x=[p['Question'][:50] + '...' for p in survey_data],\n",
    "                y=[p['Extremely important_pct'] for p in survey_data],\n",
    "                text=[f\"{p['Extremely important_pct']:.1f}%\" for p in survey_data],\n",
    "                textposition='auto'\n",
    "            ))\n",
    "    \n",
    "    fig2.update_layout(\n",
    "        title='Top 15 Priorities: % Rating \"Extremely Important\"',\n",
    "        xaxis_title='Question',\n",
    "        yaxis_title='% Extremely Important',\n",
    "        barmode='group',\n",
    "        template='plotly_white',\n",
    "        height=600,\n",
    "        xaxis_tickangle=-45\n",
    "    )\n",
    "    fig2.write_html('viz_2_top_priorities.html')\n",
    "    print(\"✓ Created viz_2_top_priorities.html\")\n",
    "\n",
    "# Visualization 3: Heatmap of Importance Levels\n",
    "if all_importance:\n",
    "    # Create a comparison heatmap for questions that appear in all three surveys\n",
    "    # Group by question text (simplified) to find common questions\n",
    "    questions_by_group = {}\n",
    "    for item in all_importance_data:\n",
    "        q_short = item['Question'][:80]\n",
    "        if q_short not in questions_by_group:\n",
    "            questions_by_group[q_short] = {}\n",
    "        questions_by_group[q_short][item['Survey']] = item['Extremely important_pct']\n",
    "    \n",
    "    # Filter to questions with high priority (>60% extremely important)\n",
    "    high_priority_questions = {q: v for q, v in questions_by_group.items() \n",
    "                              if any(pct > 60 for pct in v.values())}\n",
    "    \n",
    "    if high_priority_questions:\n",
    "        questions = list(high_priority_questions.keys())[:20]  # Top 20\n",
    "        surveys_list = ['Staff', 'Faculty', 'Student']\n",
    "        \n",
    "        heatmap_data = []\n",
    "        for q in questions:\n",
    "            row = [high_priority_questions[q].get(s, 0) for s in surveys_list]\n",
    "            heatmap_data.append(row)\n",
    "        \n",
    "        fig3 = go.Figure(data=go.Heatmap(\n",
    "            z=heatmap_data,\n",
    "            x=surveys_list,\n",
    "            y=[q[:60] + '...' for q in questions],\n",
    "            colorscale='Blues',\n",
    "            text=[[f\"{val:.1f}%\" for val in row] for row in heatmap_data],\n",
    "            texttemplate='%{text}',\n",
    "            textfont={\"size\": 10},\n",
    "            colorbar=dict(title=\"% Extremely<br>Important\")\n",
    "        ))\n",
    "        \n",
    "        fig3.update_layout(\n",
    "            title='Priority Heatmap: High-Importance Questions Across Groups',\n",
    "            xaxis_title='Survey Group',\n",
    "            yaxis_title='Question',\n",
    "            template='plotly_white',\n",
    "            height=800\n",
    "        )\n",
    "        fig3.write_html('viz_3_priority_heatmap.html')\n",
    "        print(\"✓ Created viz_3_priority_heatmap.html\")\n",
    "\n",
    "# Visualization 4: Response Distribution Comparison\n",
    "if all_importance:\n",
    "    # Pick a few key questions and show full distribution\n",
    "    top_3_questions = sorted(all_importance_data, key=lambda x: x['Extremely important_pct'], reverse=True)[:3]\n",
    "    \n",
    "    fig4 = make_subplots(\n",
    "        rows=1, cols=3,\n",
    "        subplot_titles=[q['Question'][:40] + '...' for q in top_3_questions]\n",
    "    )\n",
    "    \n",
    "    importance_levels = ['Extremely important', 'Very important', 'Moderately important', \n",
    "                        'Slightly important', 'Not Important']\n",
    "    colors = ['#1f77b4', '#ff7f0e', '#2ca02c', '#d62728', '#9467bd']\n",
    "    \n",
    "    for idx, q_data in enumerate(top_3_questions, 1):\n",
    "        values = [q_data.get(f'{level}_pct', 0) for level in importance_levels]\n",
    "        \n",
    "        fig4.add_trace(\n",
    "            go.Bar(\n",
    "                x=importance_levels,\n",
    "                y=values,\n",
    "                name=q_data['Survey'],\n",
    "                text=[f\"{v:.1f}%\" for v in values],\n",
    "                textposition='auto',\n",
    "                marker_color=colors,\n",
    "                showlegend=(idx == 1)\n",
    "            ),\n",
    "            row=1, col=idx\n",
    "        )\n",
    "    \n",
    "    fig4.update_layout(\n",
    "        title=f'Response Distribution for Top 3 Priority Questions',\n",
    "        template='plotly_white',\n",
    "        height=500,\n",
    "        showlegend=True\n",
    "    )\n",
    "    fig4.update_xaxes(tickangle=-45)\n",
    "    fig4.write_html('viz_4_response_distribution.html')\n",
    "    print(\"✓ Created viz_4_response_distribution.html\")\n",
    "\n",
    "print(f\"\\n{'='*80}\")\n",
    "print(\"✅ ANALYSIS COMPLETE!\")\n",
    "print('='*80)\n",
    "print(\"\\nGenerated Files:\")\n",
    "print(\"  📊 all_surveys_analysis.xlsx - Comprehensive Excel analysis\")\n",
    "print(\"  📈 viz_1_response_overview.html - Response rates\")\n",
    "print(\"  📈 viz_2_top_priorities.html - Top 15 priorities comparison\")\n",
    "print(\"  📈 viz_3_priority_heatmap.html - Priority heatmap\")\n",
    "print(\"  📈 viz_4_response_distribution.html - Response distributions\")\n",
    "print(\"\\nOpen the HTML files in your browser to explore interactive visualizations!\")\n",
    "print('='*80)"
   ]
  }
 ],
 "metadata": {
  "kernelspec": {
   "display_name": "Python 3",
   "language": "python",
   "name": "python3"
  },
  "language_info": {
   "codemirror_mode": {
    "name": "ipython",
    "version": 3
   },
   "file_extension": ".py",
   "mimetype": "text/x-python",
   "name": "python",
   "nbconvert_exporter": "python",
   "pygments_lexer": "ipython3",
   "version": "3.13.1"
  }
 },
 "nbformat": 4,
 "nbformat_minor": 5
}
